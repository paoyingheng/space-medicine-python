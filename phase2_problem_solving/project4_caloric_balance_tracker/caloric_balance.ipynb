{
 "cells": [
  {
   "cell_type": "markdown",
   "id": "f736f6c9-35e3-4f09-af88-3fd6336326fc",
   "metadata": {},
   "source": [
    "### Mini-project 4: Caloric intake vs burned tracker\n",
    "**Goal:**\n",
    "Track each crew member's daily caloric surplus/deficit, then:\n",
    "- Flag energy imbalance (e.g., extended deficit): flag any day where deficit >500 kcal\n",
    "- Flag crew members with >5 deficit days total\n",
    "- Summarize overall gain/loss over time\n",
    "- Plot balance trends over the mission"
   ]
  },
  {
   "cell_type": "code",
   "execution_count": 1,
   "id": "7378779f-610a-40d1-9c3f-aadf7adee40b",
   "metadata": {},
   "outputs": [],
   "source": [
    "import pandas as pd"
   ]
  },
  {
   "cell_type": "code",
   "execution_count": 2,
   "id": "9032991d-9cb8-4ea3-84c2-d037761faf0b",
   "metadata": {},
   "outputs": [],
   "source": [
    "caloric = pd.read_csv('./data/caloric_balance_log.csv')"
   ]
  },
  {
   "cell_type": "code",
   "execution_count": 3,
   "id": "db90333b-e137-4f09-81bd-a017850d8c05",
   "metadata": {},
   "outputs": [
    {
     "name": "stdout",
     "output_type": "stream",
     "text": [
      "          date   crew_member  calories_in  calories_out\n",
      "0   2025-03-20  Alice Carter         2482          2848\n",
      "1   2025-03-20    Ben O'Hara         2567          2981\n",
      "2   2025-03-20  Jonas Müller         2367          2907\n",
      "3   2025-03-20    Nina Patel         2108          2993\n",
      "4   2025-03-20     Leo Zhang         2595          2390\n",
      "..         ...           ...          ...           ...\n",
      "79  2025-04-02    Ben O'Hara         2229          2685\n",
      "80  2025-04-02  Jonas Müller         1994          2884\n",
      "81  2025-04-02    Nina Patel         2493          2843\n",
      "82  2025-04-02     Leo Zhang         2139          2902\n",
      "83  2025-04-02    Emma López         2149          2780\n",
      "\n",
      "[84 rows x 4 columns]\n"
     ]
    }
   ],
   "source": [
    "print(caloric)"
   ]
  },
  {
   "cell_type": "code",
   "execution_count": 6,
   "id": "074997d7-0e46-4969-9c9d-bde934574540",
   "metadata": {},
   "outputs": [
    {
     "data": {
      "text/plain": [
       "array(['Alice Carter', \"Ben O'Hara\", 'Jonas Müller', 'Nina Patel',\n",
       "       'Leo Zhang', 'Emma López'], dtype=object)"
      ]
     },
     "execution_count": 6,
     "metadata": {},
     "output_type": "execute_result"
    }
   ],
   "source": [
    "crew = caloric['crew_member'].unique()\n",
    "crew"
   ]
  },
  {
   "cell_type": "code",
   "execution_count": 8,
   "id": "db2f60af-0594-45a2-b7f8-f8c0f04ba5f3",
   "metadata": {},
   "outputs": [],
   "source": [
    "cal_diff = []\n",
    "for index, row in caloric.iterrows():\n",
    "    diff = row['calories_in'] - row['calories_out']\n",
    "    cal_diff.append(diff)\n",
    "\n",
    "caloric['cal_diff'] = cal_diff"
   ]
  },
  {
   "cell_type": "code",
   "execution_count": 9,
   "id": "3577c3cd-3b5b-4296-8092-3c558156acf5",
   "metadata": {},
   "outputs": [
    {
     "data": {
      "text/html": [
       "<div>\n",
       "<style scoped>\n",
       "    .dataframe tbody tr th:only-of-type {\n",
       "        vertical-align: middle;\n",
       "    }\n",
       "\n",
       "    .dataframe tbody tr th {\n",
       "        vertical-align: top;\n",
       "    }\n",
       "\n",
       "    .dataframe thead th {\n",
       "        text-align: right;\n",
       "    }\n",
       "</style>\n",
       "<table border=\"1\" class=\"dataframe\">\n",
       "  <thead>\n",
       "    <tr style=\"text-align: right;\">\n",
       "      <th></th>\n",
       "      <th>date</th>\n",
       "      <th>crew_member</th>\n",
       "      <th>calories_in</th>\n",
       "      <th>calories_out</th>\n",
       "      <th>cal_diff</th>\n",
       "    </tr>\n",
       "  </thead>\n",
       "  <tbody>\n",
       "    <tr>\n",
       "      <th>0</th>\n",
       "      <td>2025-03-20</td>\n",
       "      <td>Alice Carter</td>\n",
       "      <td>2482</td>\n",
       "      <td>2848</td>\n",
       "      <td>-366</td>\n",
       "    </tr>\n",
       "    <tr>\n",
       "      <th>1</th>\n",
       "      <td>2025-03-20</td>\n",
       "      <td>Ben O'Hara</td>\n",
       "      <td>2567</td>\n",
       "      <td>2981</td>\n",
       "      <td>-414</td>\n",
       "    </tr>\n",
       "    <tr>\n",
       "      <th>2</th>\n",
       "      <td>2025-03-20</td>\n",
       "      <td>Jonas Müller</td>\n",
       "      <td>2367</td>\n",
       "      <td>2907</td>\n",
       "      <td>-540</td>\n",
       "    </tr>\n",
       "    <tr>\n",
       "      <th>3</th>\n",
       "      <td>2025-03-20</td>\n",
       "      <td>Nina Patel</td>\n",
       "      <td>2108</td>\n",
       "      <td>2993</td>\n",
       "      <td>-885</td>\n",
       "    </tr>\n",
       "    <tr>\n",
       "      <th>4</th>\n",
       "      <td>2025-03-20</td>\n",
       "      <td>Leo Zhang</td>\n",
       "      <td>2595</td>\n",
       "      <td>2390</td>\n",
       "      <td>205</td>\n",
       "    </tr>\n",
       "  </tbody>\n",
       "</table>\n",
       "</div>"
      ],
      "text/plain": [
       "         date   crew_member  calories_in  calories_out  cal_diff\n",
       "0  2025-03-20  Alice Carter         2482          2848      -366\n",
       "1  2025-03-20    Ben O'Hara         2567          2981      -414\n",
       "2  2025-03-20  Jonas Müller         2367          2907      -540\n",
       "3  2025-03-20    Nina Patel         2108          2993      -885\n",
       "4  2025-03-20     Leo Zhang         2595          2390       205"
      ]
     },
     "execution_count": 9,
     "metadata": {},
     "output_type": "execute_result"
    }
   ],
   "source": [
    "caloric.head()"
   ]
  },
  {
   "cell_type": "code",
   "execution_count": 14,
   "id": "14391904-bfae-4d50-a693-6221ab81ce28",
   "metadata": {},
   "outputs": [],
   "source": [
    "status = []\n",
    "for index, row in caloric.iterrows():\n",
    "    diff = row['cal_diff']\n",
    "    if diff < 0:\n",
    "        stat = 'deficit'\n",
    "    elif diff == 0:\n",
    "        stat = 'balanced'\n",
    "    else:\n",
    "        stat = 'surplus'\n",
    "    status.append(stat)"
   ]
  },
  {
   "cell_type": "code",
   "execution_count": 15,
   "id": "38ddc04a-94dc-457f-a902-4ba1421631df",
   "metadata": {},
   "outputs": [
    {
     "data": {
      "text/html": [
       "<div>\n",
       "<style scoped>\n",
       "    .dataframe tbody tr th:only-of-type {\n",
       "        vertical-align: middle;\n",
       "    }\n",
       "\n",
       "    .dataframe tbody tr th {\n",
       "        vertical-align: top;\n",
       "    }\n",
       "\n",
       "    .dataframe thead th {\n",
       "        text-align: right;\n",
       "    }\n",
       "</style>\n",
       "<table border=\"1\" class=\"dataframe\">\n",
       "  <thead>\n",
       "    <tr style=\"text-align: right;\">\n",
       "      <th></th>\n",
       "      <th>date</th>\n",
       "      <th>crew_member</th>\n",
       "      <th>calories_in</th>\n",
       "      <th>calories_out</th>\n",
       "      <th>cal_diff</th>\n",
       "      <th>status</th>\n",
       "    </tr>\n",
       "  </thead>\n",
       "  <tbody>\n",
       "    <tr>\n",
       "      <th>0</th>\n",
       "      <td>2025-03-20</td>\n",
       "      <td>Alice Carter</td>\n",
       "      <td>2482</td>\n",
       "      <td>2848</td>\n",
       "      <td>-366</td>\n",
       "      <td>deficit</td>\n",
       "    </tr>\n",
       "    <tr>\n",
       "      <th>1</th>\n",
       "      <td>2025-03-20</td>\n",
       "      <td>Ben O'Hara</td>\n",
       "      <td>2567</td>\n",
       "      <td>2981</td>\n",
       "      <td>-414</td>\n",
       "      <td>deficit</td>\n",
       "    </tr>\n",
       "    <tr>\n",
       "      <th>2</th>\n",
       "      <td>2025-03-20</td>\n",
       "      <td>Jonas Müller</td>\n",
       "      <td>2367</td>\n",
       "      <td>2907</td>\n",
       "      <td>-540</td>\n",
       "      <td>deficit</td>\n",
       "    </tr>\n",
       "    <tr>\n",
       "      <th>3</th>\n",
       "      <td>2025-03-20</td>\n",
       "      <td>Nina Patel</td>\n",
       "      <td>2108</td>\n",
       "      <td>2993</td>\n",
       "      <td>-885</td>\n",
       "      <td>deficit</td>\n",
       "    </tr>\n",
       "    <tr>\n",
       "      <th>4</th>\n",
       "      <td>2025-03-20</td>\n",
       "      <td>Leo Zhang</td>\n",
       "      <td>2595</td>\n",
       "      <td>2390</td>\n",
       "      <td>205</td>\n",
       "      <td>surplus</td>\n",
       "    </tr>\n",
       "  </tbody>\n",
       "</table>\n",
       "</div>"
      ],
      "text/plain": [
       "         date   crew_member  calories_in  calories_out  cal_diff   status\n",
       "0  2025-03-20  Alice Carter         2482          2848      -366  deficit\n",
       "1  2025-03-20    Ben O'Hara         2567          2981      -414  deficit\n",
       "2  2025-03-20  Jonas Müller         2367          2907      -540  deficit\n",
       "3  2025-03-20    Nina Patel         2108          2993      -885  deficit\n",
       "4  2025-03-20     Leo Zhang         2595          2390       205  surplus"
      ]
     },
     "execution_count": 15,
     "metadata": {},
     "output_type": "execute_result"
    }
   ],
   "source": [
    "caloric['status'] = status\n",
    "caloric.head()"
   ]
  },
  {
   "cell_type": "code",
   "execution_count": 30,
   "id": "d8b06457-f042-469b-9288-bec4ffb4cb02",
   "metadata": {},
   "outputs": [
    {
     "name": "stdout",
     "output_type": "stream",
     "text": [
      "ALERT! Jonas Müller: Siginificant caloric deficit (-540 kcal) on 2025-03-20\n",
      "ALERT! Nina Patel: Siginificant caloric deficit (-885 kcal) on 2025-03-20\n",
      "ALERT! Alice Carter: Siginificant caloric deficit (-646 kcal) on 2025-03-21\n",
      "ALERT! Nina Patel: Siginificant caloric deficit (-669 kcal) on 2025-03-21\n",
      "ALERT! Leo Zhang: Siginificant caloric deficit (-620 kcal) on 2025-03-21\n",
      "ALERT! Alice Carter: Siginificant caloric deficit (-652 kcal) on 2025-03-22\n",
      "ALERT! Nina Patel: Siginificant caloric deficit (-850 kcal) on 2025-03-22\n",
      "ALERT! Nina Patel: Siginificant caloric deficit (-531 kcal) on 2025-03-23\n",
      "ALERT! Jonas Müller: Siginificant caloric deficit (-647 kcal) on 2025-03-24\n",
      "ALERT! Emma López: Siginificant caloric deficit (-896 kcal) on 2025-03-24\n",
      "ALERT! Nina Patel: Siginificant caloric deficit (-1171 kcal) on 2025-03-25\n",
      "ALERT! Jonas Müller: Siginificant caloric deficit (-627 kcal) on 2025-03-26\n",
      "ALERT! Jonas Müller: Siginificant caloric deficit (-758 kcal) on 2025-03-27\n",
      "ALERT! Leo Zhang: Siginificant caloric deficit (-581 kcal) on 2025-03-27\n",
      "ALERT! Jonas Müller: Siginificant caloric deficit (-657 kcal) on 2025-03-28\n",
      "ALERT! Nina Patel: Siginificant caloric deficit (-892 kcal) on 2025-03-28\n",
      "ALERT! Alice Carter: Siginificant caloric deficit (-509 kcal) on 2025-03-29\n",
      "ALERT! Alice Carter: Siginificant caloric deficit (-1016 kcal) on 2025-03-30\n",
      "ALERT! Nina Patel: Siginificant caloric deficit (-587 kcal) on 2025-03-30\n",
      "ALERT! Alice Carter: Siginificant caloric deficit (-627 kcal) on 2025-03-31\n",
      "ALERT! Jonas Müller: Siginificant caloric deficit (-822 kcal) on 2025-03-31\n",
      "ALERT! Nina Patel: Siginificant caloric deficit (-608 kcal) on 2025-03-31\n",
      "ALERT! Nina Patel: Siginificant caloric deficit (-784 kcal) on 2025-04-01\n",
      "ALERT! Emma López: Siginificant caloric deficit (-689 kcal) on 2025-04-01\n",
      "ALERT! Jonas Müller: Siginificant caloric deficit (-890 kcal) on 2025-04-02\n",
      "ALERT! Leo Zhang: Siginificant caloric deficit (-763 kcal) on 2025-04-02\n",
      "ALERT! Emma López: Siginificant caloric deficit (-631 kcal) on 2025-04-02\n"
     ]
    }
   ],
   "source": [
    "for index, row in caloric.iterrows():\n",
    "    if row['cal_diff'] <= -500:\n",
    "        print(f\"ALERT! {row['crew_member']}: Siginificant caloric deficit ({row['cal_diff']} kcal) on {row['date']}\")"
   ]
  },
  {
   "cell_type": "code",
   "execution_count": 55,
   "id": "80fb26f4-5277-4797-9727-8a9f32a72908",
   "metadata": {},
   "outputs": [],
   "source": [
    "def alert(name):\n",
    "    filter_crew = caloric[(caloric['crew_member'] == name)]\n",
    "    count = {}\n",
    "    for index, row in filter_crew.iterrows():\n",
    "        if row['status'] not in count:\n",
    "            count[row['status']] = 1\n",
    "        else:\n",
    "            count[row['status']] +=1\n",
    "    print(f\"Number of caloric deficit/surplus days:{count}\")\n",
    "    if count['deficit'] > 5:\n",
    "        print(\"Extended deficit detected\")"
   ]
  },
  {
   "cell_type": "code",
   "execution_count": 56,
   "id": "22b455ef-4452-4eee-bbf5-dea4f2631f49",
   "metadata": {},
   "outputs": [
    {
     "name": "stdout",
     "output_type": "stream",
     "text": [
      "\n",
      "Alice Carter\n",
      "Number of caloric deficit/surplus days:{'deficit': 12, 'surplus': 2}\n",
      "Extended deficit detected\n",
      "\n",
      "Ben O'Hara\n",
      "Number of caloric deficit/surplus days:{'deficit': 11, 'surplus': 3}\n",
      "Extended deficit detected\n",
      "\n",
      "Jonas Müller\n",
      "Number of caloric deficit/surplus days:{'deficit': 12, 'surplus': 2}\n",
      "Extended deficit detected\n",
      "\n",
      "Nina Patel\n",
      "Number of caloric deficit/surplus days:{'deficit': 12, 'surplus': 2}\n",
      "Extended deficit detected\n",
      "\n",
      "Leo Zhang\n",
      "Number of caloric deficit/surplus days:{'surplus': 4, 'deficit': 10}\n",
      "Extended deficit detected\n",
      "\n",
      "Emma López\n",
      "Number of caloric deficit/surplus days:{'deficit': 10, 'surplus': 4}\n",
      "Extended deficit detected\n"
     ]
    }
   ],
   "source": [
    "for name in crew:\n",
    "    print(f\"\\n{name}\")\n",
    "    alert(name)"
   ]
  },
  {
   "cell_type": "code",
   "execution_count": 81,
   "id": "34e93f99-0600-47aa-8ffc-0115bc6f9a07",
   "metadata": {},
   "outputs": [],
   "source": [
    "total_calories_in = sum(caloric['calories_in'])\n",
    "total_calories_out = sum(caloric['calories_out'])\n",
    "net_balance = total_calories_in - total_calories_out"
   ]
  },
  {
   "cell_type": "code",
   "execution_count": 97,
   "id": "36199140-e772-4f6a-8bbd-71fd9cfa67f1",
   "metadata": {},
   "outputs": [],
   "source": [
    "def total_cal(name):\n",
    "    filter_crew = caloric[(caloric['crew_member'] == name)]\n",
    "    total_calories_in = sum(filter_crew['calories_in'])\n",
    "    total_calories_out = sum(filter_crew['calories_out'])\n",
    "    net_balance = total_calories_in - total_calories_out\n",
    "    print(f\"Overall net caloric balance: {net_balance}\")"
   ]
  },
  {
   "cell_type": "code",
   "execution_count": 99,
   "id": "e1185419-8124-4f59-815e-1707d826b5a7",
   "metadata": {},
   "outputs": [
    {
     "name": "stdout",
     "output_type": "stream",
     "text": [
      "\n",
      "Alice Carter\n",
      "Overall net caloric balance: -4579\n",
      "\n",
      "Ben O'Hara\n",
      "Overall net caloric balance: -2877\n",
      "\n",
      "Jonas Müller\n",
      "Overall net caloric balance: -4936\n",
      "\n",
      "Nina Patel\n",
      "Overall net caloric balance: -7068\n",
      "\n",
      "Leo Zhang\n",
      "Overall net caloric balance: -2029\n",
      "\n",
      "Emma López\n",
      "Overall net caloric balance: -3558\n"
     ]
    }
   ],
   "source": [
    "for name in crew:\n",
    "    print(f\"\\n{name}\")\n",
    "    total_cal(name)"
   ]
  },
  {
   "cell_type": "code",
   "execution_count": null,
   "id": "10ac4a4d-4085-4dcb-890e-b1ea76a745be",
   "metadata": {},
   "outputs": [],
   "source": []
  },
  {
   "cell_type": "code",
   "execution_count": null,
   "id": "e07b3172-6d3e-43e6-902e-e2420c7f228c",
   "metadata": {},
   "outputs": [],
   "source": []
  },
  {
   "cell_type": "code",
   "execution_count": null,
   "id": "3e6cad58-26ee-4dd1-bc4c-3ac3ae6bdfb8",
   "metadata": {},
   "outputs": [],
   "source": []
  },
  {
   "cell_type": "code",
   "execution_count": null,
   "id": "0cd2c865-1b74-429c-a3dd-b502a36fa100",
   "metadata": {},
   "outputs": [],
   "source": []
  },
  {
   "cell_type": "code",
   "execution_count": null,
   "id": "beb5eb5b-e6b3-4d4e-84fc-2c67d2685635",
   "metadata": {},
   "outputs": [],
   "source": []
  },
  {
   "cell_type": "code",
   "execution_count": null,
   "id": "a70103bc-bde8-4bdb-b080-0ed7bcaede7a",
   "metadata": {},
   "outputs": [],
   "source": []
  }
 ],
 "metadata": {
  "kernelspec": {
   "display_name": "Python 3 (ipykernel)",
   "language": "python",
   "name": "python3"
  },
  "language_info": {
   "codemirror_mode": {
    "name": "ipython",
    "version": 3
   },
   "file_extension": ".py",
   "mimetype": "text/x-python",
   "name": "python",
   "nbconvert_exporter": "python",
   "pygments_lexer": "ipython3",
   "version": "3.10.12"
  }
 },
 "nbformat": 4,
 "nbformat_minor": 5
}
