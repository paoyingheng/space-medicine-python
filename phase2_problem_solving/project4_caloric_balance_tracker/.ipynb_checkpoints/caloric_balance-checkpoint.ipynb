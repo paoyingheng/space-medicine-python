{
 "cells": [
  {
   "cell_type": "markdown",
   "id": "f736f6c9-35e3-4f09-af88-3fd6336326fc",
   "metadata": {},
   "source": [
    "### Mini-project 4: Caloric intake vs burned tracker\n",
    "**Goal:**\n",
    "Track each crew member's daily caloric surplus/deficit, then:\n",
    "- Flag energy imbalance (e.g., extended deficit): flag any day where deficit >500 kcal\n",
    "- Flag crew members with >5 deficit days total\n",
    "- Summarize overall gain/loss over time\n",
    "- Plot balance trends over the mission"
   ]
  },
  {
   "cell_type": "code",
   "execution_count": null,
   "id": "9032991d-9cb8-4ea3-84c2-d037761faf0b",
   "metadata": {},
   "outputs": [],
   "source": []
  },
  {
   "cell_type": "code",
   "execution_count": null,
   "id": "db90333b-e137-4f09-81bd-a017850d8c05",
   "metadata": {},
   "outputs": [],
   "source": []
  },
  {
   "cell_type": "code",
   "execution_count": null,
   "id": "074997d7-0e46-4969-9c9d-bde934574540",
   "metadata": {},
   "outputs": [],
   "source": []
  },
  {
   "cell_type": "code",
   "execution_count": null,
   "id": "db2f60af-0594-45a2-b7f8-f8c0f04ba5f3",
   "metadata": {},
   "outputs": [],
   "source": []
  },
  {
   "cell_type": "code",
   "execution_count": null,
   "id": "3577c3cd-3b5b-4296-8092-3c558156acf5",
   "metadata": {},
   "outputs": [],
   "source": []
  },
  {
   "cell_type": "code",
   "execution_count": null,
   "id": "14391904-bfae-4d50-a693-6221ab81ce28",
   "metadata": {},
   "outputs": [],
   "source": []
  },
  {
   "cell_type": "code",
   "execution_count": null,
   "id": "38ddc04a-94dc-457f-a902-4ba1421631df",
   "metadata": {},
   "outputs": [],
   "source": []
  },
  {
   "cell_type": "code",
   "execution_count": null,
   "id": "d8b06457-f042-469b-9288-bec4ffb4cb02",
   "metadata": {},
   "outputs": [],
   "source": []
  },
  {
   "cell_type": "code",
   "execution_count": null,
   "id": "e1185419-8124-4f59-815e-1707d826b5a7",
   "metadata": {},
   "outputs": [],
   "source": []
  },
  {
   "cell_type": "code",
   "execution_count": null,
   "id": "10ac4a4d-4085-4dcb-890e-b1ea76a745be",
   "metadata": {},
   "outputs": [],
   "source": []
  },
  {
   "cell_type": "code",
   "execution_count": null,
   "id": "e07b3172-6d3e-43e6-902e-e2420c7f228c",
   "metadata": {},
   "outputs": [],
   "source": []
  },
  {
   "cell_type": "code",
   "execution_count": null,
   "id": "3e6cad58-26ee-4dd1-bc4c-3ac3ae6bdfb8",
   "metadata": {},
   "outputs": [],
   "source": []
  },
  {
   "cell_type": "code",
   "execution_count": null,
   "id": "0cd2c865-1b74-429c-a3dd-b502a36fa100",
   "metadata": {},
   "outputs": [],
   "source": []
  },
  {
   "cell_type": "code",
   "execution_count": null,
   "id": "beb5eb5b-e6b3-4d4e-84fc-2c67d2685635",
   "metadata": {},
   "outputs": [],
   "source": []
  },
  {
   "cell_type": "code",
   "execution_count": null,
   "id": "a70103bc-bde8-4bdb-b080-0ed7bcaede7a",
   "metadata": {},
   "outputs": [],
   "source": []
  }
 ],
 "metadata": {
  "kernelspec": {
   "display_name": "Python 3 (ipykernel)",
   "language": "python",
   "name": "python3"
  },
  "language_info": {
   "codemirror_mode": {
    "name": "ipython",
    "version": 3
   },
   "file_extension": ".py",
   "mimetype": "text/x-python",
   "name": "python",
   "nbconvert_exporter": "python",
   "pygments_lexer": "ipython3",
   "version": "3.10.12"
  }
 },
 "nbformat": 4,
 "nbformat_minor": 5
}
