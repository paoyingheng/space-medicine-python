{
 "cells": [
  {
   "cell_type": "markdown",
   "id": "13e0df9d-ab24-494c-a5a9-f588f0ef8d52",
   "metadata": {},
   "source": [
    "### Mini-Project 1: Body temperature anomaly detector\n",
    "You're part of the medical team monitoring astronauts aboard a long-duration space station mission. Each astronaut logs their body temperature daily. Your job is to:\n",
    "- Detect early signs of fever\n",
    "- Flag readings above 37.8°C\n",
    "- Provide a summary for affected astronauts"
   ]
  },
  {
   "cell_type": "code",
   "execution_count": 1,
   "id": "583521ea-ecc5-4bd3-be8c-24db048e0978",
   "metadata": {},
   "outputs": [],
   "source": [
    "import pandas as pd"
   ]
  },
  {
   "cell_type": "code",
   "execution_count": 2,
   "id": "824126c8-f6e9-4522-9974-0ecaf2fd2c67",
   "metadata": {},
   "outputs": [
    {
     "name": "stdout",
     "output_type": "stream",
     "text": [
      "         date   crew_member  temp_c\n",
      "0  2025-03-20  Alice Carter    36.6\n",
      "1  2025-03-20    Ben O'Hara    38.1\n",
      "2  2025-03-20  Jonas Müller    37.5\n",
      "3  2025-03-21  Alice Carter    36.8\n",
      "4  2025-03-21    Ben O'Hara    38.3\n",
      "5  2025-03-21  Jonas Müller    38.0\n",
      "6  2025-03-22  Alice Carter    37.9\n",
      "7  2025-03-22    Ben O'Hara    36.4\n",
      "8  2025-03-22  Jonas Müller    37.0\n"
     ]
    }
   ],
   "source": [
    "body_temp = pd.read_csv(\"./data/temp_log.csv\")\n",
    "print(body_temp)"
   ]
  },
  {
   "cell_type": "code",
   "execution_count": 3,
   "id": "e82be25f-2307-45cf-a298-1d5805a705c5",
   "metadata": {},
   "outputs": [
    {
     "name": "stdout",
     "output_type": "stream",
     "text": [
      "ALERT - Possible fever detected in:\n",
      "Ben O'Hara - 38.1°C on 2025-03-20\n",
      "Ben O'Hara - 38.3°C on 2025-03-21\n",
      "Jonas Müller - 38.0°C on 2025-03-21\n",
      "Alice Carter - 37.9°C on 2025-03-22\n"
     ]
    }
   ],
   "source": [
    "def fever_alert():\n",
    "    filter = body_temp[(body_temp[\"temp_c\"] > 37.8)]\n",
    "    return(filter)\n",
    "    \n",
    "fever = fever_alert()\n",
    "\n",
    "print(\"ALERT - Possible fever detected in:\")\n",
    "for index, row in fever.iterrows():  # df.iterrows() allows looping a pandas dataframe row by row and pulling out different values a/w each row\n",
    "    print(f\"{row['crew_member']} - {row['temp_c']}°C on {row['date']}\")"
   ]
  },
  {
   "cell_type": "code",
   "execution_count": 4,
   "id": "6084d338-ebab-4f81-88db-915ea7207afc",
   "metadata": {},
   "outputs": [
    {
     "name": "stdout",
     "output_type": "stream",
     "text": [
      "Fever Alert Summary:\n",
      "Ben O'Hara, 2 events\n",
      "Jonas Müller, 1 event\n",
      "Alice Carter, 1 event\n"
     ]
    }
   ],
   "source": [
    "fever_count = {}\n",
    "for crew in fever['crew_member']:\n",
    "    if crew not in fever_count:\n",
    "        fever_count[crew] = 1\n",
    "    else:\n",
    "        fever_count[crew] += 1\n",
    "\n",
    "print(\"Fever Alert Summary:\")\n",
    "for name, value in fever_count.items():\n",
    "    event_label = \"event\" if value <= 1 else \"events\"\n",
    "    print(f\"{name}, {value} {event_label}\")"
   ]
  },
  {
   "cell_type": "code",
   "execution_count": 5,
   "id": "d53beb7e-54b0-49fc-8f97-f0822df92e0b",
   "metadata": {},
   "outputs": [
    {
     "name": "stdin",
     "output_type": "stream",
     "text": [
      "Enter file location: ./data/temp_log.csv\n"
     ]
    },
    {
     "name": "stdout",
     "output_type": "stream",
     "text": [
      "\n",
      "ALERT - Possible fever detected in:\n",
      "Ben O'Hara - 38.1°C on 2025-03-20\n",
      "Ben O'Hara - 38.3°C on 2025-03-21\n",
      "Jonas Müller - 38.0°C on 2025-03-21\n",
      "Alice Carter - 37.9°C on 2025-03-22\n",
      "\n",
      "Fever Alert Summary:\n",
      "Ben O'Hara, 2 events\n",
      "Jonas Müller, 1 event\n",
      "Alice Carter, 1 event\n"
     ]
    }
   ],
   "source": [
    "# condensed function\n",
    "\n",
    "def fever_alert():\n",
    "    file = input('Enter file location:')\n",
    "    body_temp = pd.read_csv(file)\n",
    "    filter = body_temp[(body_temp[\"temp_c\"] > 37.8)]\n",
    "    fever = filter\n",
    "    print(\"\\nALERT - Possible fever detected in:\")\n",
    "    for index, row in fever.iterrows():  \n",
    "        print(f\"{row['crew_member']} - {row['temp_c']}°C on {row['date']}\")\n",
    "    fever_count = {}\n",
    "    for crew in fever['crew_member']:\n",
    "        if crew not in fever_count:\n",
    "            fever_count[crew] = 1\n",
    "        else:\n",
    "            fever_count[crew] += 1\n",
    "    print(\"\\nFever Alert Summary:\")\n",
    "    for name, value in fever_count.items():\n",
    "        event_label = \"event\" if value <= 1 else \"events\"\n",
    "        print(f\"{name}, {value} {event_label}\")\n",
    "\n",
    "fever_alert()"
   ]
  },
  {
   "cell_type": "markdown",
   "id": "cabe58a5-d7ca-4bbd-ab75-431cf7dffe12",
   "metadata": {},
   "source": [
    "--THE END--"
   ]
  }
 ],
 "metadata": {
  "kernelspec": {
   "display_name": "Python 3 (ipykernel)",
   "language": "python",
   "name": "python3"
  },
  "language_info": {
   "codemirror_mode": {
    "name": "ipython",
    "version": 3
   },
   "file_extension": ".py",
   "mimetype": "text/x-python",
   "name": "python",
   "nbconvert_exporter": "python",
   "pygments_lexer": "ipython3",
   "version": "3.10.12"
  }
 },
 "nbformat": 4,
 "nbformat_minor": 5
}
