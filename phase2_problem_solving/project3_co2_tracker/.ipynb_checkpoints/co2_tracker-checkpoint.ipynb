{
 "cells": [
  {
   "cell_type": "markdown",
   "id": "5e89d404-af6e-41e3-8f25-b6876e26ec1a",
   "metadata": {},
   "source": [
    "### Mini-Project 3: CO₂ Exposure & Cognitive Risk Tracker\n",
    "You're monitoring daily CO₂ levels for astronauts aboard a spacecraft.\n",
    "High CO₂ concentrations can impair cognition, attention, and decision-making — especially in enclosed environments like ISS or Mars transit vehicles. Your tasks:\n",
    "- Read daily CO₂ exposure data per crew member\n",
    "- Flag any day where **CO₂ > 1000 ppm (mild risk)**, and especially **> 2500 ppm (performance risk)**\n",
    "- Count & summarize how many risky days each crew member had\n",
    "- Plot CO₂ trends or cumulative exposure"
   ]
  },
  {
   "cell_type": "code",
   "execution_count": 1,
   "id": "ade39f61-ed30-4994-ba4c-19db0006dbbc",
   "metadata": {},
   "outputs": [],
   "source": [
    "import pandas as pd"
   ]
  },
  {
   "cell_type": "code",
   "execution_count": 2,
   "id": "bbd4bf07-e85a-4858-a347-bb7d0b5c8796",
   "metadata": {},
   "outputs": [],
   "source": [
    "co2_log = pd.read_csv('./data/co2_log.csv')"
   ]
  },
  {
   "cell_type": "code",
   "execution_count": 3,
   "id": "685c8f3c-d7b3-4010-a1a9-0414ec92621e",
   "metadata": {},
   "outputs": [
    {
     "name": "stdout",
     "output_type": "stream",
     "text": [
      "<class 'pandas.core.frame.DataFrame'>\n",
      "RangeIndex: 42 entries, 0 to 41\n",
      "Data columns (total 3 columns):\n",
      " #   Column       Non-Null Count  Dtype \n",
      "---  ------       --------------  ----- \n",
      " 0   date         42 non-null     object\n",
      " 1   crew_member  42 non-null     object\n",
      " 2   co2_ppm      42 non-null     int64 \n",
      "dtypes: int64(1), object(2)\n",
      "memory usage: 1.1+ KB\n"
     ]
    }
   ],
   "source": [
    "co2_log.info()"
   ]
  },
  {
   "cell_type": "code",
   "execution_count": 4,
   "id": "4c2494e3-d3d1-4f37-a54a-cfa794ac8cbb",
   "metadata": {},
   "outputs": [
    {
     "data": {
      "text/html": [
       "<div>\n",
       "<style scoped>\n",
       "    .dataframe tbody tr th:only-of-type {\n",
       "        vertical-align: middle;\n",
       "    }\n",
       "\n",
       "    .dataframe tbody tr th {\n",
       "        vertical-align: top;\n",
       "    }\n",
       "\n",
       "    .dataframe thead th {\n",
       "        text-align: right;\n",
       "    }\n",
       "</style>\n",
       "<table border=\"1\" class=\"dataframe\">\n",
       "  <thead>\n",
       "    <tr style=\"text-align: right;\">\n",
       "      <th></th>\n",
       "      <th>date</th>\n",
       "      <th>crew_member</th>\n",
       "      <th>co2_ppm</th>\n",
       "    </tr>\n",
       "  </thead>\n",
       "  <tbody>\n",
       "    <tr>\n",
       "      <th>0</th>\n",
       "      <td>2025-03-20</td>\n",
       "      <td>Alice Carter</td>\n",
       "      <td>1035</td>\n",
       "    </tr>\n",
       "    <tr>\n",
       "      <th>1</th>\n",
       "      <td>2025-03-20</td>\n",
       "      <td>Ben O'Hara</td>\n",
       "      <td>1200</td>\n",
       "    </tr>\n",
       "    <tr>\n",
       "      <th>2</th>\n",
       "      <td>2025-03-20</td>\n",
       "      <td>Jonas Müller</td>\n",
       "      <td>3082</td>\n",
       "    </tr>\n",
       "    <tr>\n",
       "      <th>3</th>\n",
       "      <td>2025-03-21</td>\n",
       "      <td>Alice Carter</td>\n",
       "      <td>3086</td>\n",
       "    </tr>\n",
       "    <tr>\n",
       "      <th>4</th>\n",
       "      <td>2025-03-21</td>\n",
       "      <td>Ben O'Hara</td>\n",
       "      <td>1297</td>\n",
       "    </tr>\n",
       "  </tbody>\n",
       "</table>\n",
       "</div>"
      ],
      "text/plain": [
       "         date   crew_member  co2_ppm\n",
       "0  2025-03-20  Alice Carter     1035\n",
       "1  2025-03-20    Ben O'Hara     1200\n",
       "2  2025-03-20  Jonas Müller     3082\n",
       "3  2025-03-21  Alice Carter     3086\n",
       "4  2025-03-21    Ben O'Hara     1297"
      ]
     },
     "execution_count": 4,
     "metadata": {},
     "output_type": "execute_result"
    }
   ],
   "source": [
    "co2_log.head()"
   ]
  },
  {
   "cell_type": "code",
   "execution_count": 5,
   "id": "c9430e57-dd51-4480-8cd2-b2e8a1d3c693",
   "metadata": {},
   "outputs": [],
   "source": [
    "co2_log_crew = co2_log.sort_values(by=['crew_member', 'date'])"
   ]
  },
  {
   "cell_type": "code",
   "execution_count": 6,
   "id": "50b7c54f-d074-4ef8-b445-b88f769fa8c4",
   "metadata": {},
   "outputs": [
    {
     "data": {
      "text/html": [
       "<div>\n",
       "<style scoped>\n",
       "    .dataframe tbody tr th:only-of-type {\n",
       "        vertical-align: middle;\n",
       "    }\n",
       "\n",
       "    .dataframe tbody tr th {\n",
       "        vertical-align: top;\n",
       "    }\n",
       "\n",
       "    .dataframe thead th {\n",
       "        text-align: right;\n",
       "    }\n",
       "</style>\n",
       "<table border=\"1\" class=\"dataframe\">\n",
       "  <thead>\n",
       "    <tr style=\"text-align: right;\">\n",
       "      <th></th>\n",
       "      <th>date</th>\n",
       "      <th>crew_member</th>\n",
       "      <th>co2_ppm</th>\n",
       "    </tr>\n",
       "  </thead>\n",
       "  <tbody>\n",
       "    <tr>\n",
       "      <th>0</th>\n",
       "      <td>2025-03-20</td>\n",
       "      <td>Alice Carter</td>\n",
       "      <td>1035</td>\n",
       "    </tr>\n",
       "    <tr>\n",
       "      <th>3</th>\n",
       "      <td>2025-03-21</td>\n",
       "      <td>Alice Carter</td>\n",
       "      <td>3086</td>\n",
       "    </tr>\n",
       "    <tr>\n",
       "      <th>6</th>\n",
       "      <td>2025-03-22</td>\n",
       "      <td>Alice Carter</td>\n",
       "      <td>2630</td>\n",
       "    </tr>\n",
       "    <tr>\n",
       "      <th>9</th>\n",
       "      <td>2025-03-23</td>\n",
       "      <td>Alice Carter</td>\n",
       "      <td>1269</td>\n",
       "    </tr>\n",
       "    <tr>\n",
       "      <th>12</th>\n",
       "      <td>2025-03-24</td>\n",
       "      <td>Alice Carter</td>\n",
       "      <td>988</td>\n",
       "    </tr>\n",
       "  </tbody>\n",
       "</table>\n",
       "</div>"
      ],
      "text/plain": [
       "          date   crew_member  co2_ppm\n",
       "0   2025-03-20  Alice Carter     1035\n",
       "3   2025-03-21  Alice Carter     3086\n",
       "6   2025-03-22  Alice Carter     2630\n",
       "9   2025-03-23  Alice Carter     1269\n",
       "12  2025-03-24  Alice Carter      988"
      ]
     },
     "execution_count": 6,
     "metadata": {},
     "output_type": "execute_result"
    }
   ],
   "source": [
    "co2_log_crew.head()"
   ]
  },
  {
   "cell_type": "code",
   "execution_count": 7,
   "id": "a075739b-e9c0-46b6-a4e2-0115902208c1",
   "metadata": {},
   "outputs": [],
   "source": [
    "status = []\n",
    "for index, row in co2_log_crew.iterrows():\n",
    "    co2 = row['co2_ppm']\n",
    "    if co2 > 2500:\n",
    "        co2_status= 'Performance issue' \n",
    "    elif co2 >1000: \n",
    "        co2_status='Mild risk' \n",
    "    else:\n",
    "        co2_status= 'OK'\n",
    "    status.append(co2_status)"
   ]
  },
  {
   "cell_type": "code",
   "execution_count": 8,
   "id": "c79e6bb0-50b9-424d-a769-178071243d50",
   "metadata": {},
   "outputs": [
    {
     "data": {
      "text/html": [
       "<div>\n",
       "<style scoped>\n",
       "    .dataframe tbody tr th:only-of-type {\n",
       "        vertical-align: middle;\n",
       "    }\n",
       "\n",
       "    .dataframe tbody tr th {\n",
       "        vertical-align: top;\n",
       "    }\n",
       "\n",
       "    .dataframe thead th {\n",
       "        text-align: right;\n",
       "    }\n",
       "</style>\n",
       "<table border=\"1\" class=\"dataframe\">\n",
       "  <thead>\n",
       "    <tr style=\"text-align: right;\">\n",
       "      <th></th>\n",
       "      <th>date</th>\n",
       "      <th>crew_member</th>\n",
       "      <th>co2_ppm</th>\n",
       "      <th>status</th>\n",
       "    </tr>\n",
       "  </thead>\n",
       "  <tbody>\n",
       "    <tr>\n",
       "      <th>0</th>\n",
       "      <td>2025-03-20</td>\n",
       "      <td>Alice Carter</td>\n",
       "      <td>1035</td>\n",
       "      <td>Mild risk</td>\n",
       "    </tr>\n",
       "    <tr>\n",
       "      <th>3</th>\n",
       "      <td>2025-03-21</td>\n",
       "      <td>Alice Carter</td>\n",
       "      <td>3086</td>\n",
       "      <td>Performance issue</td>\n",
       "    </tr>\n",
       "    <tr>\n",
       "      <th>6</th>\n",
       "      <td>2025-03-22</td>\n",
       "      <td>Alice Carter</td>\n",
       "      <td>2630</td>\n",
       "      <td>Performance issue</td>\n",
       "    </tr>\n",
       "    <tr>\n",
       "      <th>9</th>\n",
       "      <td>2025-03-23</td>\n",
       "      <td>Alice Carter</td>\n",
       "      <td>1269</td>\n",
       "      <td>Mild risk</td>\n",
       "    </tr>\n",
       "    <tr>\n",
       "      <th>12</th>\n",
       "      <td>2025-03-24</td>\n",
       "      <td>Alice Carter</td>\n",
       "      <td>988</td>\n",
       "      <td>OK</td>\n",
       "    </tr>\n",
       "  </tbody>\n",
       "</table>\n",
       "</div>"
      ],
      "text/plain": [
       "          date   crew_member  co2_ppm             status\n",
       "0   2025-03-20  Alice Carter     1035          Mild risk\n",
       "3   2025-03-21  Alice Carter     3086  Performance issue\n",
       "6   2025-03-22  Alice Carter     2630  Performance issue\n",
       "9   2025-03-23  Alice Carter     1269          Mild risk\n",
       "12  2025-03-24  Alice Carter      988                 OK"
      ]
     },
     "execution_count": 8,
     "metadata": {},
     "output_type": "execute_result"
    }
   ],
   "source": [
    "co2_log_crew['status'] = status\n",
    "co2_log_crew.head()"
   ]
  },
  {
   "cell_type": "code",
   "execution_count": 9,
   "id": "4aeb7aa5-9687-4e96-905e-f6cc92e9fa7c",
   "metadata": {},
   "outputs": [
    {
     "name": "stdout",
     "output_type": "stream",
     "text": [
      "Alice Carter: Mild risk on 2025-03-20 | CO2 level: 1035\n",
      "Alice Carter: Performance issue on 2025-03-21 | CO2 level: 3086\n",
      "Alice Carter: Performance issue on 2025-03-22 | CO2 level: 2630\n",
      "Alice Carter: Mild risk on 2025-03-23 | CO2 level: 1269\n",
      "Alice Carter: Mild risk on 2025-03-25 | CO2 level: 1837\n",
      "Alice Carter: Performance issue on 2025-03-27 | CO2 level: 3041\n",
      "Alice Carter: Mild risk on 2025-03-30 | CO2 level: 1360\n",
      "Alice Carter: Mild risk on 2025-03-31 | CO2 level: 1731\n",
      "Alice Carter: Mild risk on 2025-04-01 | CO2 level: 1813\n",
      "Alice Carter: Mild risk on 2025-04-02 | CO2 level: 1759\n",
      "Ben O'Hara: Mild risk on 2025-03-20 | CO2 level: 1200\n",
      "Ben O'Hara: Mild risk on 2025-03-21 | CO2 level: 1297\n",
      "Ben O'Hara: Mild risk on 2025-03-22 | CO2 level: 1323\n",
      "Ben O'Hara: Mild risk on 2025-03-24 | CO2 level: 1239\n",
      "Ben O'Hara: Mild risk on 2025-03-26 | CO2 level: 1360\n",
      "Ben O'Hara: Mild risk on 2025-03-27 | CO2 level: 1114\n",
      "Ben O'Hara: Mild risk on 2025-03-28 | CO2 level: 2100\n",
      "Ben O'Hara: Performance issue on 2025-03-29 | CO2 level: 3012\n",
      "Ben O'Hara: Performance issue on 2025-03-30 | CO2 level: 2530\n",
      "Ben O'Hara: Mild risk on 2025-03-31 | CO2 level: 1526\n",
      "Ben O'Hara: Mild risk on 2025-04-01 | CO2 level: 2279\n",
      "Ben O'Hara: Performance issue on 2025-04-02 | CO2 level: 2536\n",
      "Jonas Müller: Performance issue on 2025-03-20 | CO2 level: 3082\n",
      "Jonas Müller: Mild risk on 2025-03-22 | CO2 level: 1801\n",
      "Jonas Müller: Performance issue on 2025-03-23 | CO2 level: 2620\n",
      "Jonas Müller: Mild risk on 2025-03-24 | CO2 level: 2160\n",
      "Jonas Müller: Mild risk on 2025-03-25 | CO2 level: 1615\n",
      "Jonas Müller: Performance issue on 2025-03-27 | CO2 level: 2902\n",
      "Jonas Müller: Performance issue on 2025-03-28 | CO2 level: 2654\n",
      "Jonas Müller: Mild risk on 2025-03-29 | CO2 level: 1069\n",
      "Jonas Müller: Mild risk on 2025-03-30 | CO2 level: 1876\n",
      "Jonas Müller: Mild risk on 2025-03-31 | CO2 level: 1571\n",
      "Jonas Müller: Mild risk on 2025-04-01 | CO2 level: 1807\n",
      "Jonas Müller: Performance issue on 2025-04-02 | CO2 level: 2624\n"
     ]
    }
   ],
   "source": [
    "for index, row in co2_log_crew.iterrows():\n",
    "    if row['status'] == 'Performance issue' or row['status'] == 'Mild risk':\n",
    "        print(f\"{row['crew_member']}: {row['status']} on {row['date']} | CO2 level: {row['co2_ppm']}\")"
   ]
  },
  {
   "cell_type": "code",
   "execution_count": 10,
   "id": "cfd17787-9d80-4cae-877b-4d48d1e10311",
   "metadata": {},
   "outputs": [],
   "source": [
    "results = []\n",
    "\n",
    "for index, row in co2_log_crew.iterrows():\n",
    "    if row['status'] == 'Performance issue' or row['status'] == 'Mild risk':\n",
    "        results.append({\n",
    "            'crew_member': row['crew_member'],\n",
    "            'date': row['date'],\n",
    "            'status': row['status'],\n",
    "            'co2_ppm': row['co2_ppm']\n",
    "        })\n",
    "\n",
    "# Convert to dataFrame\n",
    "co2_alert = pd.DataFrame(results)"
   ]
  },
  {
   "cell_type": "code",
   "execution_count": 11,
   "id": "94561d52-870f-4600-aa50-1ae5503d3d5d",
   "metadata": {},
   "outputs": [
    {
     "data": {
      "text/html": [
       "<div>\n",
       "<style scoped>\n",
       "    .dataframe tbody tr th:only-of-type {\n",
       "        vertical-align: middle;\n",
       "    }\n",
       "\n",
       "    .dataframe tbody tr th {\n",
       "        vertical-align: top;\n",
       "    }\n",
       "\n",
       "    .dataframe thead th {\n",
       "        text-align: right;\n",
       "    }\n",
       "</style>\n",
       "<table border=\"1\" class=\"dataframe\">\n",
       "  <thead>\n",
       "    <tr style=\"text-align: right;\">\n",
       "      <th></th>\n",
       "      <th>crew_member</th>\n",
       "      <th>date</th>\n",
       "      <th>status</th>\n",
       "      <th>co2_ppm</th>\n",
       "    </tr>\n",
       "  </thead>\n",
       "  <tbody>\n",
       "    <tr>\n",
       "      <th>0</th>\n",
       "      <td>Alice Carter</td>\n",
       "      <td>2025-03-20</td>\n",
       "      <td>Mild risk</td>\n",
       "      <td>1035</td>\n",
       "    </tr>\n",
       "    <tr>\n",
       "      <th>1</th>\n",
       "      <td>Alice Carter</td>\n",
       "      <td>2025-03-21</td>\n",
       "      <td>Performance issue</td>\n",
       "      <td>3086</td>\n",
       "    </tr>\n",
       "    <tr>\n",
       "      <th>2</th>\n",
       "      <td>Alice Carter</td>\n",
       "      <td>2025-03-22</td>\n",
       "      <td>Performance issue</td>\n",
       "      <td>2630</td>\n",
       "    </tr>\n",
       "    <tr>\n",
       "      <th>3</th>\n",
       "      <td>Alice Carter</td>\n",
       "      <td>2025-03-23</td>\n",
       "      <td>Mild risk</td>\n",
       "      <td>1269</td>\n",
       "    </tr>\n",
       "    <tr>\n",
       "      <th>4</th>\n",
       "      <td>Alice Carter</td>\n",
       "      <td>2025-03-25</td>\n",
       "      <td>Mild risk</td>\n",
       "      <td>1837</td>\n",
       "    </tr>\n",
       "  </tbody>\n",
       "</table>\n",
       "</div>"
      ],
      "text/plain": [
       "    crew_member        date             status  co2_ppm\n",
       "0  Alice Carter  2025-03-20          Mild risk     1035\n",
       "1  Alice Carter  2025-03-21  Performance issue     3086\n",
       "2  Alice Carter  2025-03-22  Performance issue     2630\n",
       "3  Alice Carter  2025-03-23          Mild risk     1269\n",
       "4  Alice Carter  2025-03-25          Mild risk     1837"
      ]
     },
     "execution_count": 11,
     "metadata": {},
     "output_type": "execute_result"
    }
   ],
   "source": [
    "co2_alert.head()"
   ]
  },
  {
   "cell_type": "code",
   "execution_count": 12,
   "id": "5cbcda29-7d15-40af-a7cf-5f9df5027868",
   "metadata": {},
   "outputs": [],
   "source": [
    "def alert(name):\n",
    "    filter_crew = co2_alert[(co2_alert['crew_member'] == name)]\n",
    "    count = {}\n",
    "    for index, row in filter_crew.iterrows():\n",
    "        if row['status'] not in count:\n",
    "            count[row['status']] = 1\n",
    "        else:\n",
    "            count[row['status']] += 1\n",
    "    print(f\"Total risky days:\")\n",
    "    print(count)"
   ]
  },
  {
   "cell_type": "code",
   "execution_count": 13,
   "id": "c1606f9c-d3d2-473c-b665-aee487612a3a",
   "metadata": {},
   "outputs": [],
   "source": [
    "crew_names = co2_alert['crew_member'].unique()"
   ]
  },
  {
   "cell_type": "code",
   "execution_count": 14,
   "id": "c4aad054-377b-46c2-91ee-52c30f58740c",
   "metadata": {},
   "outputs": [
    {
     "name": "stdout",
     "output_type": "stream",
     "text": [
      "\n",
      "--- Checking for Alice Carter ---\n",
      "Total risky days:\n",
      "{'Mild risk': 7, 'Performance issue': 3}\n",
      "\n",
      "--- Checking for Ben O'Hara ---\n",
      "Total risky days:\n",
      "{'Mild risk': 9, 'Performance issue': 3}\n",
      "\n",
      "--- Checking for Jonas Müller ---\n",
      "Total risky days:\n",
      "{'Performance issue': 5, 'Mild risk': 7}\n"
     ]
    }
   ],
   "source": [
    "for name in crew_names:\n",
    "    print(f\"\\n--- Checking for {name} ---\")\n",
    "    alert(name)"
   ]
  },
  {
   "cell_type": "markdown",
   "id": "e2de56de-7b01-4cfa-88eb-8290c5e32576",
   "metadata": {},
   "source": [
    "--THE END--"
   ]
  }
 ],
 "metadata": {
  "kernelspec": {
   "display_name": "Python 3 (ipykernel)",
   "language": "python",
   "name": "python3"
  },
  "language_info": {
   "codemirror_mode": {
    "name": "ipython",
    "version": 3
   },
   "file_extension": ".py",
   "mimetype": "text/x-python",
   "name": "python",
   "nbconvert_exporter": "python",
   "pygments_lexer": "ipython3",
   "version": "3.10.12"
  }
 },
 "nbformat": 4,
 "nbformat_minor": 5
}
