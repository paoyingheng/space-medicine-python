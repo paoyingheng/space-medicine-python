{
 "cells": [
  {
   "cell_type": "markdown",
   "id": "1c210654-fd1f-4fe0-b03b-683ebc43d8bf",
   "metadata": {},
   "source": [
    "### Project 2: Circadian rhythm shift tracker\n",
    "How do we monitor and quantify the impact of time zone shifts on astronaut sleep?\n",
    "\n",
    "You’re analyzing astronaut sleep logs from a Mars mission where each day (a Sol) is ~24.6 hours.\n",
    "Over time, sleep and wake cycles drift if not corrected. You’re tasked with:\n",
    "- Tracking each crew member’s sleep start times\n",
    "- Detecting circadian drift — sleep times getting later each day\n",
    "- Flagging when a drift exceeds 2 hours over the mission period"
   ]
  },
  {
   "cell_type": "code",
   "execution_count": 1,
   "id": "a69e929a-943d-48cd-9d94-39ff58ed4aad",
   "metadata": {},
   "outputs": [],
   "source": [
    "import pandas as pd"
   ]
  },
  {
   "cell_type": "code",
   "execution_count": 2,
   "id": "1d1f3d65-e4e7-4c19-a73e-fd342335c470",
   "metadata": {},
   "outputs": [],
   "source": [
    "sleep_time = pd.read_csv('./data/sleep_time_log.csv')"
   ]
  },
  {
   "cell_type": "code",
   "execution_count": 3,
   "id": "ba669da0-a029-4371-abba-fb3b8da74d57",
   "metadata": {},
   "outputs": [],
   "source": [
    "crew_sleep_time = sleep_time.sort_values(by=['crew_member','date'])"
   ]
  },
  {
   "cell_type": "code",
   "execution_count": 4,
   "id": "5a8a7ab7-6f98-44c7-9616-94470e79070f",
   "metadata": {
    "scrolled": true
   },
   "outputs": [
    {
     "name": "stdout",
     "output_type": "stream",
     "text": [
      "Crew Member Sleep Start Times\n",
      "Alice Carter: 21:50 on 2025-03-20\n",
      "Alice Carter: 22:09 on 2025-03-21\n",
      "Alice Carter: 22:22 on 2025-03-22\n",
      "Alice Carter: 22:23 on 2025-03-23\n",
      "Alice Carter: 22:39 on 2025-03-24\n",
      "Alice Carter: 22:38 on 2025-03-25\n",
      "Alice Carter: 22:47 on 2025-03-26\n",
      "Alice Carter: 23:05 on 2025-03-27\n",
      "Alice Carter: 23:11 on 2025-03-28\n",
      "Alice Carter: 23:10 on 2025-03-29\n",
      "Alice Carter: 23:21 on 2025-03-30\n",
      "Alice Carter: 23:45 on 2025-03-31\n",
      "Alice Carter: 23:42 on 2025-04-01\n",
      "Alice Carter: 23:54 on 2025-04-02\n",
      "Ben O'Hara: 22:01 on 2025-03-20\n",
      "Ben O'Hara: 22:02 on 2025-03-21\n",
      "Ben O'Hara: 22:17 on 2025-03-22\n",
      "Ben O'Hara: 22:37 on 2025-03-23\n",
      "Ben O'Hara: 22:30 on 2025-03-24\n",
      "Ben O'Hara: 22:51 on 2025-03-25\n",
      "Ben O'Hara: 22:56 on 2025-03-26\n",
      "Ben O'Hara: 23:13 on 2025-03-27\n",
      "Ben O'Hara: 23:22 on 2025-03-28\n",
      "Ben O'Hara: 23:19 on 2025-03-29\n",
      "Ben O'Hara: 23:38 on 2025-03-30\n",
      "Ben O'Hara: 23:41 on 2025-03-31\n",
      "Ben O'Hara: 23:41 on 2025-04-01\n",
      "Ben O'Hara: 23:59 on 2025-04-02\n",
      "Jonas Müller: 22:06 on 2025-03-20\n",
      "Jonas Müller: 22:08 on 2025-03-21\n",
      "Jonas Müller: 22:23 on 2025-03-22\n",
      "Jonas Müller: 22:36 on 2025-03-23\n",
      "Jonas Müller: 22:43 on 2025-03-24\n",
      "Jonas Müller: 22:46 on 2025-03-25\n",
      "Jonas Müller: 22:49 on 2025-03-26\n",
      "Jonas Müller: 22:59 on 2025-03-27\n",
      "Jonas Müller: 23:15 on 2025-03-28\n",
      "Jonas Müller: 23:27 on 2025-03-29\n",
      "Jonas Müller: 23:35 on 2025-03-30\n",
      "Jonas Müller: 23:37 on 2025-03-31\n",
      "Jonas Müller: 23:50 on 2025-04-01\n",
      "Jonas Müller: 00:04 on 2025-04-02\n"
     ]
    }
   ],
   "source": [
    "## Tracking each crew member’s sleep start times\n",
    "print(\"Crew Member Sleep Start Times\")\n",
    "for index, row in crew_sleep_time.iterrows():\n",
    "    print(f\"{row['crew_member']}: {row['sleep_start']} on {row['date']}\")"
   ]
  },
  {
   "cell_type": "code",
   "execution_count": 5,
   "id": "a2c2584e-f51d-4131-a380-fce8e6d2298d",
   "metadata": {},
   "outputs": [],
   "source": [
    "from datetime import datetime"
   ]
  },
  {
   "cell_type": "code",
   "execution_count": 6,
   "id": "ecd8d4f1-d27e-4262-a5f7-2297cab11b25",
   "metadata": {},
   "outputs": [],
   "source": [
    "decimal_hours = []\n",
    "for t in crew_sleep_time['sleep_start']:\n",
    "    time_obj = datetime.strptime(t, \"%H:%M\").time()\n",
    "    hours = time_obj.hour\n",
    "    minutes = time_obj.minute\n",
    "    decimal = hours + minutes / 60\n",
    "    decimal_hours.append(decimal)\n",
    "\n",
    "crew_sleep_time['decimal_hours'] = decimal_hours"
   ]
  },
  {
   "cell_type": "code",
   "execution_count": 7,
   "id": "5a49ec0e-fd85-4524-8e2a-02c7c9de9019",
   "metadata": {},
   "outputs": [
    {
     "data": {
      "text/html": [
       "<div>\n",
       "<style scoped>\n",
       "    .dataframe tbody tr th:only-of-type {\n",
       "        vertical-align: middle;\n",
       "    }\n",
       "\n",
       "    .dataframe tbody tr th {\n",
       "        vertical-align: top;\n",
       "    }\n",
       "\n",
       "    .dataframe thead th {\n",
       "        text-align: right;\n",
       "    }\n",
       "</style>\n",
       "<table border=\"1\" class=\"dataframe\">\n",
       "  <thead>\n",
       "    <tr style=\"text-align: right;\">\n",
       "      <th></th>\n",
       "      <th>date</th>\n",
       "      <th>crew_member</th>\n",
       "      <th>sleep_start</th>\n",
       "      <th>decimal_hours</th>\n",
       "    </tr>\n",
       "  </thead>\n",
       "  <tbody>\n",
       "    <tr>\n",
       "      <th>0</th>\n",
       "      <td>2025-03-20</td>\n",
       "      <td>Alice Carter</td>\n",
       "      <td>21:50</td>\n",
       "      <td>21.833333</td>\n",
       "    </tr>\n",
       "    <tr>\n",
       "      <th>3</th>\n",
       "      <td>2025-03-21</td>\n",
       "      <td>Alice Carter</td>\n",
       "      <td>22:09</td>\n",
       "      <td>22.150000</td>\n",
       "    </tr>\n",
       "    <tr>\n",
       "      <th>6</th>\n",
       "      <td>2025-03-22</td>\n",
       "      <td>Alice Carter</td>\n",
       "      <td>22:22</td>\n",
       "      <td>22.366667</td>\n",
       "    </tr>\n",
       "    <tr>\n",
       "      <th>9</th>\n",
       "      <td>2025-03-23</td>\n",
       "      <td>Alice Carter</td>\n",
       "      <td>22:23</td>\n",
       "      <td>22.383333</td>\n",
       "    </tr>\n",
       "    <tr>\n",
       "      <th>12</th>\n",
       "      <td>2025-03-24</td>\n",
       "      <td>Alice Carter</td>\n",
       "      <td>22:39</td>\n",
       "      <td>22.650000</td>\n",
       "    </tr>\n",
       "  </tbody>\n",
       "</table>\n",
       "</div>"
      ],
      "text/plain": [
       "          date   crew_member sleep_start  decimal_hours\n",
       "0   2025-03-20  Alice Carter       21:50      21.833333\n",
       "3   2025-03-21  Alice Carter       22:09      22.150000\n",
       "6   2025-03-22  Alice Carter       22:22      22.366667\n",
       "9   2025-03-23  Alice Carter       22:23      22.383333\n",
       "12  2025-03-24  Alice Carter       22:39      22.650000"
      ]
     },
     "execution_count": 7,
     "metadata": {},
     "output_type": "execute_result"
    }
   ],
   "source": [
    "crew_sleep_time.head()"
   ]
  },
  {
   "cell_type": "code",
   "execution_count": 8,
   "id": "1375d330-3d48-446d-81ef-f09dc85f3c26",
   "metadata": {},
   "outputs": [],
   "source": [
    "def crew(name):\n",
    "    filter_crew = crew_sleep_time[(crew_sleep_time['crew_member'] == name)]\n",
    "    for index, row in filter_crew.iterrows():\n",
    "        initial = filter_crew[filter_crew['date']=='2025-03-20']\n",
    "        baseline = initial['decimal_hours'].values[0]\n",
    "        current_sleep = row['decimal_hours']\n",
    "        if current_sleep > baseline + 2:\n",
    "            print(f\"{row['crew_member']}: CIRCADIAN DRIFT ALERT on {row['date']}\")\n",
    "        else:\n",
    "            print(f\"{row['crew_member']}: No circadian drift on {row['date']}\")"
   ]
  },
  {
   "cell_type": "code",
   "execution_count": 9,
   "id": "d5e24db6-9023-4c31-8af8-4d67d77c9411",
   "metadata": {},
   "outputs": [],
   "source": [
    "crew_names = crew_sleep_time['crew_member'].unique()"
   ]
  },
  {
   "cell_type": "code",
   "execution_count": 10,
   "id": "8b16abae-ce5b-4202-80a0-ef711b368b30",
   "metadata": {},
   "outputs": [
    {
     "name": "stdout",
     "output_type": "stream",
     "text": [
      "\n",
      "--- Checking for Alice Carter ---\n",
      "Alice Carter: No circadian drift on 2025-03-20\n",
      "Alice Carter: No circadian drift on 2025-03-21\n",
      "Alice Carter: No circadian drift on 2025-03-22\n",
      "Alice Carter: No circadian drift on 2025-03-23\n",
      "Alice Carter: No circadian drift on 2025-03-24\n",
      "Alice Carter: No circadian drift on 2025-03-25\n",
      "Alice Carter: No circadian drift on 2025-03-26\n",
      "Alice Carter: No circadian drift on 2025-03-27\n",
      "Alice Carter: No circadian drift on 2025-03-28\n",
      "Alice Carter: No circadian drift on 2025-03-29\n",
      "Alice Carter: No circadian drift on 2025-03-30\n",
      "Alice Carter: No circadian drift on 2025-03-31\n",
      "Alice Carter: No circadian drift on 2025-04-01\n",
      "Alice Carter: CIRCADIAN DRIFT ALERT on 2025-04-02\n",
      "\n",
      "--- Checking for Ben O'Hara ---\n",
      "Ben O'Hara: No circadian drift on 2025-03-20\n",
      "Ben O'Hara: No circadian drift on 2025-03-21\n",
      "Ben O'Hara: No circadian drift on 2025-03-22\n",
      "Ben O'Hara: No circadian drift on 2025-03-23\n",
      "Ben O'Hara: No circadian drift on 2025-03-24\n",
      "Ben O'Hara: No circadian drift on 2025-03-25\n",
      "Ben O'Hara: No circadian drift on 2025-03-26\n",
      "Ben O'Hara: No circadian drift on 2025-03-27\n",
      "Ben O'Hara: No circadian drift on 2025-03-28\n",
      "Ben O'Hara: No circadian drift on 2025-03-29\n",
      "Ben O'Hara: No circadian drift on 2025-03-30\n",
      "Ben O'Hara: No circadian drift on 2025-03-31\n",
      "Ben O'Hara: No circadian drift on 2025-04-01\n",
      "Ben O'Hara: No circadian drift on 2025-04-02\n",
      "\n",
      "--- Checking for Jonas Müller ---\n",
      "Jonas Müller: No circadian drift on 2025-03-20\n",
      "Jonas Müller: No circadian drift on 2025-03-21\n",
      "Jonas Müller: No circadian drift on 2025-03-22\n",
      "Jonas Müller: No circadian drift on 2025-03-23\n",
      "Jonas Müller: No circadian drift on 2025-03-24\n",
      "Jonas Müller: No circadian drift on 2025-03-25\n",
      "Jonas Müller: No circadian drift on 2025-03-26\n",
      "Jonas Müller: No circadian drift on 2025-03-27\n",
      "Jonas Müller: No circadian drift on 2025-03-28\n",
      "Jonas Müller: No circadian drift on 2025-03-29\n",
      "Jonas Müller: No circadian drift on 2025-03-30\n",
      "Jonas Müller: No circadian drift on 2025-03-31\n",
      "Jonas Müller: No circadian drift on 2025-04-01\n",
      "Jonas Müller: No circadian drift on 2025-04-02\n"
     ]
    }
   ],
   "source": [
    "for name in crew_names:\n",
    "    print(f\"\\n--- Checking for {name} ---\")\n",
    "    crew(name)"
   ]
  },
  {
   "cell_type": "markdown",
   "id": "60d1b577-0a62-4d3f-bde4-415ba8660159",
   "metadata": {},
   "source": [
    "--THE END--"
   ]
  }
 ],
 "metadata": {
  "kernelspec": {
   "display_name": "Python 3 (ipykernel)",
   "language": "python",
   "name": "python3"
  },
  "language_info": {
   "codemirror_mode": {
    "name": "ipython",
    "version": 3
   },
   "file_extension": ".py",
   "mimetype": "text/x-python",
   "name": "python",
   "nbconvert_exporter": "python",
   "pygments_lexer": "ipython3",
   "version": "3.10.12"
  }
 },
 "nbformat": 4,
 "nbformat_minor": 5
}
