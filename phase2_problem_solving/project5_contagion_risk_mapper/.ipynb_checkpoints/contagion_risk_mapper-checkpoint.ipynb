{
 "cells": [
  {
   "cell_type": "markdown",
   "id": "4e95a99b-7a60-40b5-b23e-e885e12c9c05",
   "metadata": {},
   "source": [
    "### Project 5: Contagion risk mapper\n",
    "**Goal**:\n",
    "Simulate infection spread using symptom onset and contact logs — and flag crew members who had close contact with a symptomatic individual in the days leading up to their symptom onset."
   ]
  },
  {
   "cell_type": "code",
   "execution_count": 2,
   "id": "134d91da-c206-4c99-91ad-eee08be361f5",
   "metadata": {},
   "outputs": [],
   "source": [
    "import pandas as pd"
   ]
  },
  {
   "cell_type": "code",
   "execution_count": 3,
   "id": "a2121eb8-b481-4dbd-b2ca-60b86481fdfe",
   "metadata": {},
   "outputs": [],
   "source": [
    "contagion_log = pd.read_csv('./data/contagion_log.csv')"
   ]
  },
  {
   "cell_type": "code",
   "execution_count": 4,
   "id": "8cc1a3b8-5cb2-4985-99a1-c031cbf184e0",
   "metadata": {},
   "outputs": [
    {
     "data": {
      "text/html": [
       "<div>\n",
       "<style scoped>\n",
       "    .dataframe tbody tr th:only-of-type {\n",
       "        vertical-align: middle;\n",
       "    }\n",
       "\n",
       "    .dataframe tbody tr th {\n",
       "        vertical-align: top;\n",
       "    }\n",
       "\n",
       "    .dataframe thead th {\n",
       "        text-align: right;\n",
       "    }\n",
       "</style>\n",
       "<table border=\"1\" class=\"dataframe\">\n",
       "  <thead>\n",
       "    <tr style=\"text-align: right;\">\n",
       "      <th></th>\n",
       "      <th>date</th>\n",
       "      <th>crew_member</th>\n",
       "      <th>contact_with</th>\n",
       "      <th>symptoms</th>\n",
       "    </tr>\n",
       "  </thead>\n",
       "  <tbody>\n",
       "    <tr>\n",
       "      <th>0</th>\n",
       "      <td>2025-03-20</td>\n",
       "      <td>Alice Carter</td>\n",
       "      <td>Ben O'Hara</td>\n",
       "      <td>No</td>\n",
       "    </tr>\n",
       "    <tr>\n",
       "      <th>1</th>\n",
       "      <td>2025-03-20</td>\n",
       "      <td>Ben O'Hara</td>\n",
       "      <td>Alice Carter</td>\n",
       "      <td>No</td>\n",
       "    </tr>\n",
       "    <tr>\n",
       "      <th>2</th>\n",
       "      <td>2025-03-20</td>\n",
       "      <td>Jonas Müller</td>\n",
       "      <td>Nina Patel</td>\n",
       "      <td>No</td>\n",
       "    </tr>\n",
       "    <tr>\n",
       "      <th>3</th>\n",
       "      <td>2025-03-20</td>\n",
       "      <td>Nina Patel</td>\n",
       "      <td>Leo Zhang</td>\n",
       "      <td>No</td>\n",
       "    </tr>\n",
       "    <tr>\n",
       "      <th>4</th>\n",
       "      <td>2025-03-20</td>\n",
       "      <td>Leo Zhang</td>\n",
       "      <td>Nina Patel</td>\n",
       "      <td>No</td>\n",
       "    </tr>\n",
       "  </tbody>\n",
       "</table>\n",
       "</div>"
      ],
      "text/plain": [
       "         date   crew_member  contact_with symptoms\n",
       "0  2025-03-20  Alice Carter    Ben O'Hara       No\n",
       "1  2025-03-20    Ben O'Hara  Alice Carter       No\n",
       "2  2025-03-20  Jonas Müller    Nina Patel       No\n",
       "3  2025-03-20    Nina Patel     Leo Zhang       No\n",
       "4  2025-03-20     Leo Zhang    Nina Patel       No"
      ]
     },
     "execution_count": 4,
     "metadata": {},
     "output_type": "execute_result"
    }
   ],
   "source": [
    "contagion_log.head()"
   ]
  },
  {
   "cell_type": "code",
   "execution_count": 5,
   "id": "f8ce3a03-4a84-4732-89ef-5929f592e748",
   "metadata": {},
   "outputs": [],
   "source": [
    "symptomatic = contagion_log[contagion_log['symptoms'] == 'Yes']"
   ]
  },
  {
   "cell_type": "code",
   "execution_count": 6,
   "id": "2c28898c-2f8a-4b17-a91d-b933392ac025",
   "metadata": {},
   "outputs": [
    {
     "data": {
      "text/html": [
       "<div>\n",
       "<style scoped>\n",
       "    .dataframe tbody tr th:only-of-type {\n",
       "        vertical-align: middle;\n",
       "    }\n",
       "\n",
       "    .dataframe tbody tr th {\n",
       "        vertical-align: top;\n",
       "    }\n",
       "\n",
       "    .dataframe thead th {\n",
       "        text-align: right;\n",
       "    }\n",
       "</style>\n",
       "<table border=\"1\" class=\"dataframe\">\n",
       "  <thead>\n",
       "    <tr style=\"text-align: right;\">\n",
       "      <th></th>\n",
       "      <th>date</th>\n",
       "      <th>crew_member</th>\n",
       "      <th>contact_with</th>\n",
       "      <th>symptoms</th>\n",
       "    </tr>\n",
       "  </thead>\n",
       "  <tbody>\n",
       "    <tr>\n",
       "      <th>45</th>\n",
       "      <td>2025-03-27</td>\n",
       "      <td>Nina Patel</td>\n",
       "      <td>Leo Zhang</td>\n",
       "      <td>Yes</td>\n",
       "    </tr>\n",
       "    <tr>\n",
       "      <th>47</th>\n",
       "      <td>2025-03-27</td>\n",
       "      <td>Emma López</td>\n",
       "      <td>Alice Carter</td>\n",
       "      <td>Yes</td>\n",
       "    </tr>\n",
       "  </tbody>\n",
       "</table>\n",
       "</div>"
      ],
      "text/plain": [
       "          date crew_member  contact_with symptoms\n",
       "45  2025-03-27  Nina Patel     Leo Zhang      Yes\n",
       "47  2025-03-27  Emma López  Alice Carter      Yes"
      ]
     },
     "execution_count": 6,
     "metadata": {},
     "output_type": "execute_result"
    }
   ],
   "source": [
    "symptomatic"
   ]
  },
  {
   "cell_type": "code",
   "execution_count": 35,
   "id": "253a8ed7-e91e-4c1f-9d6b-f14b9b55c274",
   "metadata": {},
   "outputs": [],
   "source": [
    "def contact(names):\n",
    "    for name in names:\n",
    "        filter_name = contagion_log[contagion_log['crew_member']== name]\n",
    "        filter_name = filter_name[(filter_name['date'] >= '2025-03-24') & (filter_name['date'] <='2025-03-26')]\n",
    "        print(f\"\\n{filter_name}\")"
   ]
  },
  {
   "cell_type": "code",
   "execution_count": 36,
   "id": "376fd041-c3d4-4969-8975-652e07f3d752",
   "metadata": {},
   "outputs": [
    {
     "name": "stdout",
     "output_type": "stream",
     "text": [
      "\n",
      "          date crew_member  contact_with symptoms\n",
      "27  2025-03-24  Nina Patel  Alice Carter       No\n",
      "33  2025-03-25  Nina Patel  Jonas Müller       No\n",
      "39  2025-03-26  Nina Patel    Emma López       No\n",
      "\n",
      "          date crew_member  contact_with symptoms\n",
      "29  2025-03-24  Emma López  Alice Carter       No\n",
      "35  2025-03-25  Emma López    Ben O'Hara       No\n",
      "41  2025-03-26  Emma López  Jonas Müller       No\n"
     ]
    }
   ],
   "source": [
    "contact(['Nina Patel','Emma López'])"
   ]
  },
  {
   "cell_type": "code",
   "execution_count": null,
   "id": "8061fed0-1dd8-4f30-a66a-ceac881a1b86",
   "metadata": {},
   "outputs": [],
   "source": []
  }
 ],
 "metadata": {
  "kernelspec": {
   "display_name": "Python 3 (ipykernel)",
   "language": "python",
   "name": "python3"
  },
  "language_info": {
   "codemirror_mode": {
    "name": "ipython",
    "version": 3
   },
   "file_extension": ".py",
   "mimetype": "text/x-python",
   "name": "python",
   "nbconvert_exporter": "python",
   "pygments_lexer": "ipython3",
   "version": "3.10.12"
  }
 },
 "nbformat": 4,
 "nbformat_minor": 5
}
