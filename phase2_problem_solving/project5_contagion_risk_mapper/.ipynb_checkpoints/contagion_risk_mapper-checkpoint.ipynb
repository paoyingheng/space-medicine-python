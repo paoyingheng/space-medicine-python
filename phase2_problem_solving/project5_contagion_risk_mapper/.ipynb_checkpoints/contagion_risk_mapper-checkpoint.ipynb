{
 "cells": [
  {
   "cell_type": "markdown",
   "id": "4e95a99b-7a60-40b5-b23e-e885e12c9c05",
   "metadata": {},
   "source": [
    "### Project 5: Contagion risk mapper\n",
    "**Goal**:\n",
    "Simulate infection spread using symptom onset and contact logs — and flag crew members who had close contact with a symptomatic individual in the days leading up to their symptom onset."
   ]
  },
  {
   "cell_type": "code",
   "execution_count": 2,
   "id": "134d91da-c206-4c99-91ad-eee08be361f5",
   "metadata": {},
   "outputs": [],
   "source": [
    "import pandas as pd"
   ]
  },
  {
   "cell_type": "code",
   "execution_count": 3,
   "id": "a2121eb8-b481-4dbd-b2ca-60b86481fdfe",
   "metadata": {},
   "outputs": [],
   "source": [
    "contagion_log = pd.read_csv('./data/contagion_log.csv')"
   ]
  },
  {
   "cell_type": "code",
   "execution_count": 4,
   "id": "8cc1a3b8-5cb2-4985-99a1-c031cbf184e0",
   "metadata": {},
   "outputs": [
    {
     "data": {
      "text/html": [
       "<div>\n",
       "<style scoped>\n",
       "    .dataframe tbody tr th:only-of-type {\n",
       "        vertical-align: middle;\n",
       "    }\n",
       "\n",
       "    .dataframe tbody tr th {\n",
       "        vertical-align: top;\n",
       "    }\n",
       "\n",
       "    .dataframe thead th {\n",
       "        text-align: right;\n",
       "    }\n",
       "</style>\n",
       "<table border=\"1\" class=\"dataframe\">\n",
       "  <thead>\n",
       "    <tr style=\"text-align: right;\">\n",
       "      <th></th>\n",
       "      <th>date</th>\n",
       "      <th>crew_member</th>\n",
       "      <th>contact_with</th>\n",
       "      <th>symptoms</th>\n",
       "    </tr>\n",
       "  </thead>\n",
       "  <tbody>\n",
       "    <tr>\n",
       "      <th>0</th>\n",
       "      <td>2025-03-20</td>\n",
       "      <td>Alice Carter</td>\n",
       "      <td>Ben O'Hara</td>\n",
       "      <td>No</td>\n",
       "    </tr>\n",
       "    <tr>\n",
       "      <th>1</th>\n",
       "      <td>2025-03-20</td>\n",
       "      <td>Ben O'Hara</td>\n",
       "      <td>Alice Carter</td>\n",
       "      <td>No</td>\n",
       "    </tr>\n",
       "    <tr>\n",
       "      <th>2</th>\n",
       "      <td>2025-03-20</td>\n",
       "      <td>Jonas Müller</td>\n",
       "      <td>Nina Patel</td>\n",
       "      <td>No</td>\n",
       "    </tr>\n",
       "    <tr>\n",
       "      <th>3</th>\n",
       "      <td>2025-03-20</td>\n",
       "      <td>Nina Patel</td>\n",
       "      <td>Leo Zhang</td>\n",
       "      <td>No</td>\n",
       "    </tr>\n",
       "    <tr>\n",
       "      <th>4</th>\n",
       "      <td>2025-03-20</td>\n",
       "      <td>Leo Zhang</td>\n",
       "      <td>Nina Patel</td>\n",
       "      <td>No</td>\n",
       "    </tr>\n",
       "  </tbody>\n",
       "</table>\n",
       "</div>"
      ],
      "text/plain": [
       "         date   crew_member  contact_with symptoms\n",
       "0  2025-03-20  Alice Carter    Ben O'Hara       No\n",
       "1  2025-03-20    Ben O'Hara  Alice Carter       No\n",
       "2  2025-03-20  Jonas Müller    Nina Patel       No\n",
       "3  2025-03-20    Nina Patel     Leo Zhang       No\n",
       "4  2025-03-20     Leo Zhang    Nina Patel       No"
      ]
     },
     "execution_count": 4,
     "metadata": {},
     "output_type": "execute_result"
    }
   ],
   "source": [
    "contagion_log.head()"
   ]
  },
  {
   "cell_type": "code",
   "execution_count": 5,
   "id": "f8ce3a03-4a84-4732-89ef-5929f592e748",
   "metadata": {},
   "outputs": [],
   "source": [
    "symptomatic = contagion_log[contagion_log['symptoms'] == 'Yes']"
   ]
  },
  {
   "cell_type": "code",
   "execution_count": 6,
   "id": "2c28898c-2f8a-4b17-a91d-b933392ac025",
   "metadata": {
    "scrolled": true
   },
   "outputs": [
    {
     "data": {
      "text/html": [
       "<div>\n",
       "<style scoped>\n",
       "    .dataframe tbody tr th:only-of-type {\n",
       "        vertical-align: middle;\n",
       "    }\n",
       "\n",
       "    .dataframe tbody tr th {\n",
       "        vertical-align: top;\n",
       "    }\n",
       "\n",
       "    .dataframe thead th {\n",
       "        text-align: right;\n",
       "    }\n",
       "</style>\n",
       "<table border=\"1\" class=\"dataframe\">\n",
       "  <thead>\n",
       "    <tr style=\"text-align: right;\">\n",
       "      <th></th>\n",
       "      <th>date</th>\n",
       "      <th>crew_member</th>\n",
       "      <th>contact_with</th>\n",
       "      <th>symptoms</th>\n",
       "    </tr>\n",
       "  </thead>\n",
       "  <tbody>\n",
       "    <tr>\n",
       "      <th>45</th>\n",
       "      <td>2025-03-27</td>\n",
       "      <td>Nina Patel</td>\n",
       "      <td>Leo Zhang</td>\n",
       "      <td>Yes</td>\n",
       "    </tr>\n",
       "    <tr>\n",
       "      <th>47</th>\n",
       "      <td>2025-03-27</td>\n",
       "      <td>Emma López</td>\n",
       "      <td>Alice Carter</td>\n",
       "      <td>Yes</td>\n",
       "    </tr>\n",
       "  </tbody>\n",
       "</table>\n",
       "</div>"
      ],
      "text/plain": [
       "          date crew_member  contact_with symptoms\n",
       "45  2025-03-27  Nina Patel     Leo Zhang      Yes\n",
       "47  2025-03-27  Emma López  Alice Carter      Yes"
      ]
     },
     "execution_count": 6,
     "metadata": {},
     "output_type": "execute_result"
    }
   ],
   "source": [
    "symptomatic"
   ]
  },
  {
   "cell_type": "markdown",
   "id": "e0464abe-d4a3-4d0e-bee0-32d5cbec6cb9",
   "metadata": {},
   "source": [
    "### Symptom Onset\n",
    "On 2025-03-27, both:\n",
    "- Nina Patel\n",
    "- Emma López\n",
    "\n",
    "became symptomatic (symptoms == \"Yes\"). This can be regarded as Day 0 for potential transmission."
   ]
  },
  {
   "cell_type": "code",
   "execution_count": 35,
   "id": "253a8ed7-e91e-4c1f-9d6b-f14b9b55c274",
   "metadata": {},
   "outputs": [],
   "source": [
    "def contact(names):\n",
    "    for name in names:\n",
    "        filter_name = contagion_log[contagion_log['crew_member']== name]\n",
    "        filter_name = filter_name[(filter_name['date'] >= '2025-03-24') & (filter_name['date'] <='2025-03-26')]\n",
    "        print(f\"\\n{filter_name}\")"
   ]
  },
  {
   "cell_type": "code",
   "execution_count": 36,
   "id": "376fd041-c3d4-4969-8975-652e07f3d752",
   "metadata": {},
   "outputs": [
    {
     "name": "stdout",
     "output_type": "stream",
     "text": [
      "\n",
      "          date crew_member  contact_with symptoms\n",
      "27  2025-03-24  Nina Patel  Alice Carter       No\n",
      "33  2025-03-25  Nina Patel  Jonas Müller       No\n",
      "39  2025-03-26  Nina Patel    Emma López       No\n",
      "\n",
      "          date crew_member  contact_with symptoms\n",
      "29  2025-03-24  Emma López  Alice Carter       No\n",
      "35  2025-03-25  Emma López    Ben O'Hara       No\n",
      "41  2025-03-26  Emma López  Jonas Müller       No\n"
     ]
    }
   ],
   "source": [
    "contact(['Nina Patel','Emma López'])"
   ]
  },
  {
   "cell_type": "markdown",
   "id": "aa0da5d0-e39a-4647-b087-292d428d0c15",
   "metadata": {},
   "source": [
    "#### Contact Tracing (3 days before symptom onset: 24th–26th)\n",
    "- Nina Patel had contact with Emma López **one day** before **both** became symptomatic.\n",
    "- **Both** had contact with **Alice Carter 3 days before** symptom onset.\n",
    "\n",
    "#### What can be deduced?\n",
    "1. Possible transmission path from Emma López to Nina Patel (i.e., Emma López infected Nina Patel).\n",
    "2. Alice Cooper is patient zero and infected both Emma López and Nina Patel."
   ]
  },
  {
   "cell_type": "code",
   "execution_count": null,
   "id": "23fea112-9bac-4e36-b38c-4b30cc77bf6c",
   "metadata": {},
   "outputs": [],
   "source": []
  },
  {
   "cell_type": "code",
   "execution_count": null,
   "id": "350372e2-9296-4e5e-a22e-2641e0a558a8",
   "metadata": {},
   "outputs": [],
   "source": []
  },
  {
   "cell_type": "code",
   "execution_count": null,
   "id": "bd70123a-ed10-4a0b-8d72-f6181d8e09f2",
   "metadata": {},
   "outputs": [],
   "source": []
  },
  {
   "cell_type": "code",
   "execution_count": null,
   "id": "bc23c18e-7a15-4379-bb3a-bdd0b2062a9e",
   "metadata": {},
   "outputs": [],
   "source": []
  },
  {
   "cell_type": "code",
   "execution_count": null,
   "id": "44c966a7-aef7-4123-abb0-ca47b337c3ea",
   "metadata": {},
   "outputs": [],
   "source": []
  },
  {
   "cell_type": "code",
   "execution_count": null,
   "id": "0b598ce7-2702-4501-9403-0187726ddb1d",
   "metadata": {},
   "outputs": [],
   "source": []
  },
  {
   "cell_type": "code",
   "execution_count": null,
   "id": "a11b7363-f3ef-4b79-bf74-eaa5a90a6b25",
   "metadata": {},
   "outputs": [],
   "source": []
  },
  {
   "cell_type": "code",
   "execution_count": null,
   "id": "fcafb23d-fa02-4f32-afa8-7fd9a64d8f34",
   "metadata": {},
   "outputs": [],
   "source": []
  }
 ],
 "metadata": {
  "kernelspec": {
   "display_name": "Python 3 (ipykernel)",
   "language": "python",
   "name": "python3"
  },
  "language_info": {
   "codemirror_mode": {
    "name": "ipython",
    "version": 3
   },
   "file_extension": ".py",
   "mimetype": "text/x-python",
   "name": "python",
   "nbconvert_exporter": "python",
   "pygments_lexer": "ipython3",
   "version": "3.10.12"
  }
 },
 "nbformat": 4,
 "nbformat_minor": 5
}
