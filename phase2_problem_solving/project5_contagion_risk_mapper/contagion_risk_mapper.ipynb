{
 "cells": [
  {
   "cell_type": "markdown",
   "id": "4e95a99b-7a60-40b5-b23e-e885e12c9c05",
   "metadata": {},
   "source": [
    "## Project 5: Contagion risk mapper\n",
    "**Goal**:\n",
    "Simulate infection spread using symptom onset and contact logs — and flag crew members who had close contact with a symptomatic individual in the days leading up to their symptom onset."
   ]
  },
  {
   "cell_type": "markdown",
   "id": "92b58ea9-13ff-475a-a4b4-acc7f54fd5ac",
   "metadata": {},
   "source": [
    "### 1. Case identification"
   ]
  },
  {
   "cell_type": "code",
   "execution_count": 1,
   "id": "134d91da-c206-4c99-91ad-eee08be361f5",
   "metadata": {},
   "outputs": [],
   "source": [
    "import pandas as pd"
   ]
  },
  {
   "cell_type": "code",
   "execution_count": 2,
   "id": "a2121eb8-b481-4dbd-b2ca-60b86481fdfe",
   "metadata": {},
   "outputs": [],
   "source": [
    "contagion_log = pd.read_csv('./data/contagion_log.csv')"
   ]
  },
  {
   "cell_type": "code",
   "execution_count": 3,
   "id": "8cc1a3b8-5cb2-4985-99a1-c031cbf184e0",
   "metadata": {},
   "outputs": [
    {
     "data": {
      "text/html": [
       "<div>\n",
       "<style scoped>\n",
       "    .dataframe tbody tr th:only-of-type {\n",
       "        vertical-align: middle;\n",
       "    }\n",
       "\n",
       "    .dataframe tbody tr th {\n",
       "        vertical-align: top;\n",
       "    }\n",
       "\n",
       "    .dataframe thead th {\n",
       "        text-align: right;\n",
       "    }\n",
       "</style>\n",
       "<table border=\"1\" class=\"dataframe\">\n",
       "  <thead>\n",
       "    <tr style=\"text-align: right;\">\n",
       "      <th></th>\n",
       "      <th>date</th>\n",
       "      <th>crew_member</th>\n",
       "      <th>contact_with</th>\n",
       "      <th>symptoms</th>\n",
       "    </tr>\n",
       "  </thead>\n",
       "  <tbody>\n",
       "    <tr>\n",
       "      <th>0</th>\n",
       "      <td>2025-03-20</td>\n",
       "      <td>Alice Carter</td>\n",
       "      <td>Ben O'Hara</td>\n",
       "      <td>No</td>\n",
       "    </tr>\n",
       "    <tr>\n",
       "      <th>1</th>\n",
       "      <td>2025-03-20</td>\n",
       "      <td>Ben O'Hara</td>\n",
       "      <td>Alice Carter</td>\n",
       "      <td>No</td>\n",
       "    </tr>\n",
       "    <tr>\n",
       "      <th>2</th>\n",
       "      <td>2025-03-20</td>\n",
       "      <td>Jonas Müller</td>\n",
       "      <td>Nina Patel</td>\n",
       "      <td>No</td>\n",
       "    </tr>\n",
       "    <tr>\n",
       "      <th>3</th>\n",
       "      <td>2025-03-20</td>\n",
       "      <td>Nina Patel</td>\n",
       "      <td>Leo Zhang</td>\n",
       "      <td>No</td>\n",
       "    </tr>\n",
       "    <tr>\n",
       "      <th>4</th>\n",
       "      <td>2025-03-20</td>\n",
       "      <td>Leo Zhang</td>\n",
       "      <td>Nina Patel</td>\n",
       "      <td>No</td>\n",
       "    </tr>\n",
       "  </tbody>\n",
       "</table>\n",
       "</div>"
      ],
      "text/plain": [
       "         date   crew_member  contact_with symptoms\n",
       "0  2025-03-20  Alice Carter    Ben O'Hara       No\n",
       "1  2025-03-20    Ben O'Hara  Alice Carter       No\n",
       "2  2025-03-20  Jonas Müller    Nina Patel       No\n",
       "3  2025-03-20    Nina Patel     Leo Zhang       No\n",
       "4  2025-03-20     Leo Zhang    Nina Patel       No"
      ]
     },
     "execution_count": 3,
     "metadata": {},
     "output_type": "execute_result"
    }
   ],
   "source": [
    "contagion_log.head()"
   ]
  },
  {
   "cell_type": "code",
   "execution_count": 4,
   "id": "f8ce3a03-4a84-4732-89ef-5929f592e748",
   "metadata": {},
   "outputs": [],
   "source": [
    "symptomatic = contagion_log[contagion_log['symptoms'] == 'Yes']"
   ]
  },
  {
   "cell_type": "code",
   "execution_count": 5,
   "id": "2c28898c-2f8a-4b17-a91d-b933392ac025",
   "metadata": {
    "scrolled": true
   },
   "outputs": [
    {
     "data": {
      "text/html": [
       "<div>\n",
       "<style scoped>\n",
       "    .dataframe tbody tr th:only-of-type {\n",
       "        vertical-align: middle;\n",
       "    }\n",
       "\n",
       "    .dataframe tbody tr th {\n",
       "        vertical-align: top;\n",
       "    }\n",
       "\n",
       "    .dataframe thead th {\n",
       "        text-align: right;\n",
       "    }\n",
       "</style>\n",
       "<table border=\"1\" class=\"dataframe\">\n",
       "  <thead>\n",
       "    <tr style=\"text-align: right;\">\n",
       "      <th></th>\n",
       "      <th>date</th>\n",
       "      <th>crew_member</th>\n",
       "      <th>contact_with</th>\n",
       "      <th>symptoms</th>\n",
       "    </tr>\n",
       "  </thead>\n",
       "  <tbody>\n",
       "    <tr>\n",
       "      <th>45</th>\n",
       "      <td>2025-03-27</td>\n",
       "      <td>Nina Patel</td>\n",
       "      <td>Leo Zhang</td>\n",
       "      <td>Yes</td>\n",
       "    </tr>\n",
       "    <tr>\n",
       "      <th>47</th>\n",
       "      <td>2025-03-27</td>\n",
       "      <td>Emma López</td>\n",
       "      <td>Alice Carter</td>\n",
       "      <td>Yes</td>\n",
       "    </tr>\n",
       "  </tbody>\n",
       "</table>\n",
       "</div>"
      ],
      "text/plain": [
       "          date crew_member  contact_with symptoms\n",
       "45  2025-03-27  Nina Patel     Leo Zhang      Yes\n",
       "47  2025-03-27  Emma López  Alice Carter      Yes"
      ]
     },
     "execution_count": 5,
     "metadata": {},
     "output_type": "execute_result"
    }
   ],
   "source": [
    "symptomatic"
   ]
  },
  {
   "cell_type": "markdown",
   "id": "e0464abe-d4a3-4d0e-bee0-32d5cbec6cb9",
   "metadata": {},
   "source": [
    "On 2025-03-27, both:\n",
    "- Nina Patel\n",
    "- Emma López\n",
    "\n",
    "became symptomatic (symptoms == \"Yes\"). This can be regarded as Day 0 for potential transmission."
   ]
  },
  {
   "cell_type": "markdown",
   "id": "65bbaa46-1eda-4bb1-9775-56f8ecb5ddf5",
   "metadata": {},
   "source": [
    "### 2. Backward tracing - identifying suspected Source contacts\n",
    "Purpose:\n",
    "- Identify the source of the infection\n",
    "- Understand the epidemiological chain\n",
    "- Based on: who the symptomatic person was in contact with before symptoms\n",
    "\n",
    "What happened before Nina Patel and Emma López became symptomatic?\n",
    "Did one infect the other — or could other crew members have served as potential pre-symptomatic sources or amplifiers within the transmission chain, despite not exhibiting symptoms themselves?\n",
    "\n",
    "Below we look at Nina Patel and Emma López's contact events in the 3 days before symptom onset, to identify individuals who may have contributed to the spread of infection through close proximity or repeated interactions."
   ]
  },
  {
   "cell_type": "code",
   "execution_count": 6,
   "id": "253a8ed7-e91e-4c1f-9d6b-f14b9b55c274",
   "metadata": {},
   "outputs": [],
   "source": [
    "def contact_tracing(names):\n",
    "    for name in names:\n",
    "        filter_name = contagion_log[contagion_log['crew_member']== name]\n",
    "        filter_name = filter_name[(filter_name['date'] >= '2025-03-24') & (filter_name['date'] <='2025-03-26')]\n",
    "        print(f\"\\n{filter_name}\")"
   ]
  },
  {
   "cell_type": "code",
   "execution_count": 7,
   "id": "376fd041-c3d4-4969-8975-652e07f3d752",
   "metadata": {},
   "outputs": [
    {
     "name": "stdout",
     "output_type": "stream",
     "text": [
      "\n",
      "          date crew_member  contact_with symptoms\n",
      "27  2025-03-24  Nina Patel  Alice Carter       No\n",
      "33  2025-03-25  Nina Patel  Jonas Müller       No\n",
      "39  2025-03-26  Nina Patel    Emma López       No\n",
      "\n",
      "          date crew_member  contact_with symptoms\n",
      "29  2025-03-24  Emma López  Alice Carter       No\n",
      "35  2025-03-25  Emma López    Ben O'Hara       No\n",
      "41  2025-03-26  Emma López  Jonas Müller       No\n"
     ]
    }
   ],
   "source": [
    "contact_tracing(['Nina Patel','Emma López'])"
   ]
  },
  {
   "cell_type": "markdown",
   "id": "aa0da5d0-e39a-4647-b087-292d428d0c15",
   "metadata": {},
   "source": [
    "- Nina Patel had contact with Emma López **one day** before **both** became symptomatic.\n",
    "- **Both** had contact with **Alice Carter 3 days before** symptom onset.\n",
    "- **Both** had contact with **Jonas Müller** before symptom onset, albeit on different days.\n",
    "\n",
    "#### Possible interpretations:\n",
    "1. Possible transmission path from Emma López to Nina Patel (i.e., Emma López infected Nina Patel).\n",
    "2. Alice Carter was contacted by both symptomatic individulas on the same day, suggesting that she may serve as a **central node** in the contact network.\n",
    "3. Jonas Müller has separate direct contact with both prior to their symptom onset, placing him in a position of **epidemiological interest**.\n",
    "   \n",
    "Although neither has shown symptoms, Alice and Jonas' repeated appearance in exposure chains warrants further investigation to determine whether they acted as asymptomatic spreaders, intermediaries, or were simply coincidental contacts."
   ]
  },
  {
   "cell_type": "code",
   "execution_count": 8,
   "id": "b0216ef6-5ef9-4b49-8305-f49d0d63fc86",
   "metadata": {},
   "outputs": [],
   "source": [
    "# Tracing Alice Carter and Jonas Müller's contacts before 24th\n",
    "def contact(names):\n",
    "    for name in names:\n",
    "        contact = contagion_log[contagion_log['crew_member'] == name]\n",
    "        contact = contact[contact['date'] < '2025-03-27']\n",
    "        print(contact)"
   ]
  },
  {
   "cell_type": "code",
   "execution_count": 10,
   "id": "e5d1549d-0d8d-41b7-9368-2868bbc5970d",
   "metadata": {},
   "outputs": [
    {
     "name": "stdout",
     "output_type": "stream",
     "text": [
      "          date   crew_member  contact_with symptoms\n",
      "0   2025-03-20  Alice Carter    Ben O'Hara       No\n",
      "6   2025-03-21  Alice Carter    Ben O'Hara       No\n",
      "12  2025-03-22  Alice Carter     Leo Zhang       No\n",
      "18  2025-03-23  Alice Carter           NaN       No\n",
      "24  2025-03-24  Alice Carter  Jonas Müller       No\n",
      "30  2025-03-25  Alice Carter    Nina Patel       No\n",
      "36  2025-03-26  Alice Carter     Leo Zhang       No\n",
      "          date   crew_member  contact_with symptoms\n",
      "2   2025-03-20  Jonas Müller    Nina Patel       No\n",
      "8   2025-03-21  Jonas Müller    Emma López       No\n",
      "14  2025-03-22  Jonas Müller    Emma López       No\n",
      "20  2025-03-23  Jonas Müller     Leo Zhang       No\n",
      "26  2025-03-24  Jonas Müller           NaN       No\n",
      "32  2025-03-25  Jonas Müller  Alice Carter       No\n",
      "38  2025-03-26  Jonas Müller    Ben O'Hara       No\n"
     ]
    }
   ],
   "source": [
    "contact(['Alice Carter','Jonas Müller'])"
   ]
  },
  {
   "cell_type": "markdown",
   "id": "b376ccaa-93b6-4cce-b220-62522088688a",
   "metadata": {},
   "source": [
    "#### Contact patterns observed\n",
    "Both Nina and Emma had contact with **Jonas Müller and Alice Carter** between 2025-03-24 and 2025-03-26.\n",
    "\n",
    "Specifically:\n",
    "- Nina contacted Jonas on 2025-03-25\n",
    "- Emma contacted Jonas on 2025-03-26\n",
    "- Both contacted Alice Carter on 2025-03-24\n",
    "\n",
    "#### Contact logs for Jonas Müller:\n",
    "- Jonas contacted Nina (as early as 2025-03-20)Emma (2025-03-21 & 22)\n",
    "- Jonas was contacted by Alice Carter on 2025-03-24\n",
    "- Jonas has not reported any symptoms to date\n",
    "\n",
    "#### Contact logs for Alice Carter:\n",
    "- Alice was in contact with Ben, Jonas, Leo, and Nina between 2025-03-20 and 2025-03-26\n",
    "- She was also contacted by both symptomatic individuals on 2025-03-24\n",
    "- Alice is also not symptomatic, but frequently present in multiple contact chains\n",
    "\n",
    "### Interpretation & preliminary conclusion\n",
    "Jonas Müller is the most likely common point of exposure:\n",
    "- He had earlier contact with both Nina and Emma than any other crew member.\n",
    "- His interactions fall within plausible incubation windows.\n",
    "- He has not shown symptoms, suggesting possible asymptomatic transmission.\n",
    "\n",
    "Alice Carter appears frequently in contact chains and was in touch with both symptomatic crew on the same day (2025-03-24), the only shared exposure date. This positions her as a possible intermediary.\n",
    "\n",
    "While a definitive transmission source cannot be confirmed without clinical testing, the contact patterns suggest that both Jonas and Alice played key roles in the potential spread. They should be treated as **epidemiologically significant contacts** and monitored accordingly.\n"
   ]
  },
  {
   "cell_type": "markdown",
   "id": "71233ace-d543-4055-88f2-12e9916d76a2",
   "metadata": {},
   "source": [
    "### 3. Forward tracing - identifying who might get infected next\n",
    "Purpose:\n",
    "- Prevent further spread\n",
    "- Quarantine or monitor exposed individuals\n",
    "- Based on: who the symptomatic person contacted before onset"
   ]
  },
  {
   "cell_type": "code",
   "execution_count": 11,
   "id": "eb478087-e37e-4f63-bda5-176796c91449",
   "metadata": {},
   "outputs": [],
   "source": [
    "from datetime import datetime\n",
    "from datetime import timedelta"
   ]
  },
  {
   "cell_type": "code",
   "execution_count": 12,
   "id": "c7986ed5-3dd3-4219-9959-f19a943b1750",
   "metadata": {},
   "outputs": [
    {
     "data": {
      "text/html": [
       "<div>\n",
       "<style scoped>\n",
       "    .dataframe tbody tr th:only-of-type {\n",
       "        vertical-align: middle;\n",
       "    }\n",
       "\n",
       "    .dataframe tbody tr th {\n",
       "        vertical-align: top;\n",
       "    }\n",
       "\n",
       "    .dataframe thead th {\n",
       "        text-align: right;\n",
       "    }\n",
       "</style>\n",
       "<table border=\"1\" class=\"dataframe\">\n",
       "  <thead>\n",
       "    <tr style=\"text-align: right;\">\n",
       "      <th></th>\n",
       "      <th>date</th>\n",
       "      <th>crew_member</th>\n",
       "      <th>contact_with</th>\n",
       "      <th>symptoms</th>\n",
       "      <th>date_new</th>\n",
       "    </tr>\n",
       "  </thead>\n",
       "  <tbody>\n",
       "    <tr>\n",
       "      <th>0</th>\n",
       "      <td>2025-03-20</td>\n",
       "      <td>Alice Carter</td>\n",
       "      <td>Ben O'Hara</td>\n",
       "      <td>No</td>\n",
       "      <td>2025-03-20</td>\n",
       "    </tr>\n",
       "    <tr>\n",
       "      <th>1</th>\n",
       "      <td>2025-03-20</td>\n",
       "      <td>Ben O'Hara</td>\n",
       "      <td>Alice Carter</td>\n",
       "      <td>No</td>\n",
       "      <td>2025-03-20</td>\n",
       "    </tr>\n",
       "    <tr>\n",
       "      <th>2</th>\n",
       "      <td>2025-03-20</td>\n",
       "      <td>Jonas Müller</td>\n",
       "      <td>Nina Patel</td>\n",
       "      <td>No</td>\n",
       "      <td>2025-03-20</td>\n",
       "    </tr>\n",
       "    <tr>\n",
       "      <th>3</th>\n",
       "      <td>2025-03-20</td>\n",
       "      <td>Nina Patel</td>\n",
       "      <td>Leo Zhang</td>\n",
       "      <td>No</td>\n",
       "      <td>2025-03-20</td>\n",
       "    </tr>\n",
       "    <tr>\n",
       "      <th>4</th>\n",
       "      <td>2025-03-20</td>\n",
       "      <td>Leo Zhang</td>\n",
       "      <td>Nina Patel</td>\n",
       "      <td>No</td>\n",
       "      <td>2025-03-20</td>\n",
       "    </tr>\n",
       "  </tbody>\n",
       "</table>\n",
       "</div>"
      ],
      "text/plain": [
       "         date   crew_member  contact_with symptoms    date_new\n",
       "0  2025-03-20  Alice Carter    Ben O'Hara       No  2025-03-20\n",
       "1  2025-03-20    Ben O'Hara  Alice Carter       No  2025-03-20\n",
       "2  2025-03-20  Jonas Müller    Nina Patel       No  2025-03-20\n",
       "3  2025-03-20    Nina Patel     Leo Zhang       No  2025-03-20\n",
       "4  2025-03-20     Leo Zhang    Nina Patel       No  2025-03-20"
      ]
     },
     "execution_count": 12,
     "metadata": {},
     "output_type": "execute_result"
    }
   ],
   "source": [
    "date_new = []\n",
    "for d in contagion_log['date']:\n",
    "    date_obj = datetime.strptime(d, \"%Y-%m-%d\").date()\n",
    "    date_new.append(date_obj)\n",
    "contagion_log['date_new'] = date_new\n",
    "contagion_log.head()"
   ]
  },
  {
   "cell_type": "code",
   "execution_count": 13,
   "id": "19fea59a-3b71-43c5-82d9-daa33415006d",
   "metadata": {},
   "outputs": [],
   "source": [
    "def contact_chain(names):\n",
    "    for name in names:\n",
    "        symptomatic = contagion_log[(contagion_log['crew_member'] == name) & (contagion_log['symptoms'] == 'Yes')]\n",
    "        date_symp = symptomatic['date_new'].values[0]\n",
    "        recent_contact = contagion_log[(contagion_log['date_new'] >= date_symp -  timedelta(days=3)) & (contagion_log['date_new'] < date_symp) & (contagion_log['contact_with']==name)]\n",
    "        print(recent_contact)"
   ]
  },
  {
   "cell_type": "code",
   "execution_count": 14,
   "id": "d988bf2a-21d8-41e0-b12c-75e99c93d78d",
   "metadata": {},
   "outputs": [
    {
     "name": "stdout",
     "output_type": "stream",
     "text": [
      "          date   crew_member contact_with symptoms    date_new\n",
      "30  2025-03-25  Alice Carter   Nina Patel       No  2025-03-25\n",
      "31  2025-03-25    Ben O'Hara   Nina Patel       No  2025-03-25\n",
      "37  2025-03-26    Ben O'Hara   Nina Patel       No  2025-03-26\n",
      "          date crew_member contact_with symptoms    date_new\n",
      "39  2025-03-26  Nina Patel   Emma López       No  2025-03-26\n"
     ]
    }
   ],
   "source": [
    "contact_chain(['Nina Patel','Emma López'])"
   ]
  },
  {
   "cell_type": "markdown",
   "id": "4eb4b713-97d7-44c3-b4f3-ab2e3e9df382",
   "metadata": {},
   "source": [
    "#### Interpretation:\n",
    "- **Ben O’Hara** had multiple contacts with Nina in the possible infectious window and may be at elevated risk of exposure.\n",
    "- Emma López was contacted by Nina one day before both became symptomatic — a possible mutual exposure or bidirectional transmission event."
   ]
  },
  {
   "cell_type": "markdown",
   "id": "c08ca69e-3228-4e1d-92c0-a86494f956fd",
   "metadata": {},
   "source": [
    "### Crew monitoring summary:\n",
    "\n",
    "| Crew Member   | Status                          | Justification                                                                 | Recommended Action                       |\n",
    "|---------------|----------------------------------|--------------------------------------------------------------------------------|------------------------------------------|\n",
    "| **Nina Patel**    | Symptomatic                      | Confirmed symptomatic on 2025-03-27                                             | 🔴 Isolate immediately                    |\n",
    "| **Emma López**    | Symptomatic                      | Confirmed symptomatic on 2025-03-27                                             | 🔴 Isolate immediately                    |\n",
    "| **Ben O’Hara**    | High-risk downstream contact     | Contacted Nina twice during her infectious window                               | 🟠 Active monitoring                      |\n",
    "| **Alice Carter**  | Upstream contact / network hub   | Contacted by both Nina and Emma on 2025-03-24; central in multiple contact chains | 🟠 Active monitoring                      |\n",
    "| **Jonas Müller**  | Upstream contact / likely source | Contact with both Nina and Emma prior to onset; no symptoms reported            | 🟠 Active monitoring                      |\n",
    "| **Leo Zhang**     | Indirect exposure (x2)           | Contacted by Alice and Jonas within exposure window                             | 🟡 Passive monitoring (daily check-ins)   |\n"
   ]
  },
  {
   "cell_type": "markdown",
   "id": "5457d816-df1b-41f0-ae72-9d246744fa51",
   "metadata": {},
   "source": [
    "### Visualizing contagion graph"
   ]
  },
  {
   "cell_type": "code",
   "execution_count": 15,
   "id": "adf7a6f6-66b5-4ff7-8664-c2e131ea76ed",
   "metadata": {},
   "outputs": [
    {
     "name": "stdout",
     "output_type": "stream",
     "text": [
      "3.3\n"
     ]
    }
   ],
   "source": [
    "import networkx as nx\n",
    "print(nx.__version__)"
   ]
  },
  {
   "cell_type": "code",
   "execution_count": 16,
   "id": "249e599f-12d3-4c39-94a5-a33d0a2f9c35",
   "metadata": {},
   "outputs": [],
   "source": [
    "import matplotlib.pyplot as plt"
   ]
  },
  {
   "cell_type": "code",
   "execution_count": 17,
   "id": "868b0b5d-6b11-4ea3-b4c7-fb664d707c21",
   "metadata": {},
   "outputs": [],
   "source": [
    "# creating a graph\n",
    "G = nx.DiGraph()"
   ]
  },
  {
   "cell_type": "code",
   "execution_count": 18,
   "id": "c6fd26b6-0ca5-4b1f-9137-dc9dff50275a",
   "metadata": {},
   "outputs": [],
   "source": [
    "for index, row in contagion_log.iterrows():\n",
    "    source = row['crew_member']\n",
    "    target = row['contact_with']\n",
    "    #only add if contact_with is NOT NaN\n",
    "    if pd.notnull(target):\n",
    "        G.add_edge(source, target, date = row['date']) # store contact as edge"
   ]
  },
  {
   "cell_type": "code",
   "execution_count": 19,
   "id": "56af60b2-ae4a-481f-bd7b-deba13416dcb",
   "metadata": {},
   "outputs": [],
   "source": [
    "# styling the nodes so that it is easier to distinguish\n",
    "node_colors = []\n",
    "for node in G.nodes():\n",
    "    if node in ['Nina Patel', 'Emma López']:\n",
    "        node_colors.append('red')\n",
    "    elif node in ['Ben O’Hara', 'Alice Carter', 'Jonas Müller']:\n",
    "        node_colors.append('orange')\n",
    "    else:\n",
    "        node_colors.append('lightgreen')\n",
    "    "
   ]
  },
  {
   "cell_type": "code",
   "execution_count": 20,
   "id": "1eae343a-f44b-46b3-bad3-4623d968b5b6",
   "metadata": {},
   "outputs": [
    {
     "data": {
      "image/png": "[encoded data removed]",
      "text/plain": [
       "<Figure size 1000x800 with 1 Axes>"
      ]
     },
     "metadata": {},
     "output_type": "display_data"
    }
   ],
   "source": [
    "# drawing the graph\n",
    "\n",
    "plt.figure(figsize=(10,8))\n",
    "\n",
    "pos = nx.spring_layout(G, seed = 42) # force-directed layout for nice spacing\n",
    "\n",
    "nx.draw_networkx_nodes(G, pos, node_color=node_colors, node_size=1000)\n",
    "nx.draw_networkx_labels(G, pos)\n",
    "nx.draw_networkx_edges(G, pos, arrows=True, arrowstyle='->')\n",
    "\n",
    "plt.title(\"Crew Contact Network\")\n",
    "plt.axis('off')\n",
    "plt.show()"
   ]
  },
  {
   "cell_type": "code",
   "execution_count": null,
   "id": "8f2095cf-3542-4276-83a6-8507f08bc3e7",
   "metadata": {},
   "outputs": [],
   "source": []
  },
  {
   "cell_type": "code",
   "execution_count": null,
   "id": "338ebb85-301a-462a-b000-94b9460bb6b1",
   "metadata": {},
   "outputs": [],
   "source": []
  },
  {
   "cell_type": "code",
   "execution_count": null,
   "id": "5b1a80ed-ca65-40fc-a331-0ed35da2f6bf",
   "metadata": {},
   "outputs": [],
   "source": []
  }
 ],
 "metadata": {
  "kernelspec": {
   "display_name": "Python 3 (ipykernel)",
   "language": "python",
   "name": "python3"
  },
  "language_info": {
   "codemirror_mode": {
    "name": "ipython",
    "version": 3
   },
   "file_extension": ".py",
   "mimetype": "text/x-python",
   "name": "python",
   "nbconvert_exporter": "python",
   "pygments_lexer": "ipython3",
   "version": "3.10.12"
  }
 },
 "nbformat": 4,
 "nbformat_minor": 5
}
