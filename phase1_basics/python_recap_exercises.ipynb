{
 "cells": [
  {
   "cell_type": "markdown",
   "id": "b4fcdd78-ad3a-4cc5-b122-3afaa7350b76",
   "metadata": {},
   "source": [
    "### 1. Variables & Data Types\n",
    "**Goal**: Refresh assignment, strings, numbers, booleans\n",
    "\n",
    "Create a variable for an astronaut's:\n",
    "\n",
    "- Name (string)\n",
    "- Age (integer)\n",
    "- Heart rate (float)\n",
    "- IsFitForEVA (boolean)\n",
    "- Calculate the age the astronaut will be at the end of a 540-day Mars mission.\n"
   ]
  },
  {
   "cell_type": "code",
   "execution_count": 1,
   "id": "72de3ab2-5bb8-45a0-8a62-337f626cab93",
   "metadata": {},
   "outputs": [
    {
     "name": "stdin",
     "output_type": "stream",
     "text": [
      "Enter the name of astronaut:  Commander Neil Armstrong\n",
      "Enter the age of astronaut (years):  39\n",
      "Enter resting heart rate (bpm):  62\n",
      "Fit for EVA? (y/n): y\n"
     ]
    },
    {
     "name": "stdout",
     "output_type": "stream",
     "text": [
      "Commander Neil Armstrong is 39 years old, has a resting heart rate of 62.0 bpm, and is fit for EVA.\n",
      "At the end of a 540-day Mars mission, Commander Neil Armstrong will be 40.48 years old.\n"
     ]
    }
   ],
   "source": [
    "def astronaut():\n",
    "    name = input(\"Enter the name of astronaut: \")\n",
    "    age = int(input(\"Enter the age of astronaut (years): \"))\n",
    "    hr = float(input(\"Enter resting heart rate (bpm): \"))\n",
    "    fit = input(\"Fit for EVA? (y/n):\")\n",
    "    if fit == \"y\":\n",
    "        print(f\"{name} is {age} years old, has a resting heart rate of {hr} bpm, and is fit for EVA.\");\n",
    "    else:\n",
    "        print(f\"{name} is {age} years old, has a resting heart rate of {hr} bpm, and is not fit for EVA.\")\n",
    "    print(f\"At the end of a 540-day Mars mission, {name} will be {(age + 540/365.25):.2f} years old.\")\n",
    "astronaut()   "
   ]
  },
  {
   "cell_type": "markdown",
   "id": "f8f00813-f00e-4757-aa6e-f78e0bc23ad4",
   "metadata": {},
   "source": [
    "### 2. Lists and Indexing\n",
    "**Goal:** Practice indexing, slicing, and modifying lists\n",
    "\n",
    "- Make a list of crew member names.\n",
    "- Access the 2nd crew member in the list.\n",
    "- Change the name of the 3rd crew member.\n",
    "- Add a new crew member to the list.\n",
    "- Remove the first crew member.\n",
    "- Bonus: Reverse the list using slicing.\n",
    "\n"
   ]
  },
  {
   "cell_type": "code",
   "execution_count": 2,
   "id": "fcc2feaf-052c-4fba-8378-a57d76c02d89",
   "metadata": {},
   "outputs": [],
   "source": [
    "crew = [\"Alan\",\"Barbara\",\"Connie\",\"Dwight\",\"Eugene\",\"Fran\",\"Graham\"]"
   ]
  },
  {
   "cell_type": "code",
   "execution_count": 3,
   "id": "c0b946d4-a203-485d-890e-7b6f6ecbff30",
   "metadata": {},
   "outputs": [
    {
     "data": {
      "text/plain": [
       "'Barbara'"
      ]
     },
     "execution_count": 3,
     "metadata": {},
     "output_type": "execute_result"
    }
   ],
   "source": [
    "crew[1]"
   ]
  },
  {
   "cell_type": "code",
   "execution_count": 4,
   "id": "4be212e1-f243-4627-9c2f-32a2949d0a07",
   "metadata": {},
   "outputs": [
    {
     "data": {
      "text/plain": [
       "['Alan', 'Barbara', 'Carol', 'Dwight', 'Eugene', 'Fran', 'Graham']"
      ]
     },
     "execution_count": 4,
     "metadata": {},
     "output_type": "execute_result"
    }
   ],
   "source": [
    "crew[2] = \"Carol\"\n",
    "crew"
   ]
  },
  {
   "cell_type": "code",
   "execution_count": 5,
   "id": "581728ee-eec4-47dd-bd1e-d03cb215a503",
   "metadata": {},
   "outputs": [
    {
     "data": {
      "text/plain": [
       "['Alan', 'Barbara', 'Carol', 'Dwight', 'Eugene', 'Fran', 'Graham', 'Harold']"
      ]
     },
     "execution_count": 5,
     "metadata": {},
     "output_type": "execute_result"
    }
   ],
   "source": [
    "crew.append(\"Harold\")\n",
    "crew"
   ]
  },
  {
   "cell_type": "code",
   "execution_count": 6,
   "id": "3295c4b0-9bb1-4cd3-8be3-4e273c27b5d0",
   "metadata": {},
   "outputs": [
    {
     "data": {
      "text/plain": [
       "['Barbara', 'Carol', 'Dwight', 'Eugene', 'Fran', 'Graham', 'Harold']"
      ]
     },
     "execution_count": 6,
     "metadata": {},
     "output_type": "execute_result"
    }
   ],
   "source": [
    "crew.pop(0)\n",
    "crew"
   ]
  },
  {
   "cell_type": "code",
   "execution_count": 7,
   "id": "f6f6cfe6-727c-41d8-8a8f-0bc1fa472719",
   "metadata": {},
   "outputs": [
    {
     "data": {
      "text/plain": [
       "['Harold', 'Graham', 'Fran', 'Eugene', 'Dwight', 'Carol', 'Barbara']"
      ]
     },
     "execution_count": 7,
     "metadata": {},
     "output_type": "execute_result"
    }
   ],
   "source": [
    "crew.reverse()\n",
    "crew"
   ]
  },
  {
   "cell_type": "markdown",
   "id": "0906f65f-433c-4fde-a054-962eccc3c026",
   "metadata": {},
   "source": [
    "### 3. Dictionaries\n",
    "**Goal:** Key-value storage\n",
    "\n",
    "- Create a dictionary for a single crew member containing: \"name\", \"oxygen_level\" (%), \"hydration_level\" (%), \"radiation_dose\" (mSv)\n",
    "- Update their hydration level.\n",
    "- Add a new key \"status\" with value \"stable\".\n",
    "- Print all keys and values."
   ]
  },
  {
   "cell_type": "code",
   "execution_count": 8,
   "id": "2ccb7874-ff64-4c42-bbde-c5f42f2238dd",
   "metadata": {},
   "outputs": [],
   "source": [
    "crew_member = {\"name\": \"Poppy Hobbs\", \"oxygen_level\": 99, \"hydration_level\": 75, \"radiation_dose\": 72}"
   ]
  },
  {
   "cell_type": "code",
   "execution_count": 9,
   "id": "53f8f815-5025-4cb8-a4e7-5425ad18c1a1",
   "metadata": {},
   "outputs": [
    {
     "data": {
      "text/plain": [
       "{'name': 'Poppy Hobbs',\n",
       " 'oxygen_level': 99,\n",
       " 'hydration_level': 75,\n",
       " 'radiation_dose': 72}"
      ]
     },
     "execution_count": 9,
     "metadata": {},
     "output_type": "execute_result"
    }
   ],
   "source": [
    "crew_member"
   ]
  },
  {
   "cell_type": "code",
   "execution_count": 10,
   "id": "82c2bf20-e99d-4ef3-8da2-31eb4accadb0",
   "metadata": {},
   "outputs": [
    {
     "data": {
      "text/plain": [
       "{'name': 'Poppy Hobbs',\n",
       " 'oxygen_level': 99,\n",
       " 'hydration_level': 94,\n",
       " 'radiation_dose': 72}"
      ]
     },
     "execution_count": 10,
     "metadata": {},
     "output_type": "execute_result"
    }
   ],
   "source": [
    "crew_member.update({\"hydration_level\": 94})\n",
    "crew_member"
   ]
  },
  {
   "cell_type": "code",
   "execution_count": 11,
   "id": "9494e2ba-7e8e-4f4c-9259-8c3ea43468fb",
   "metadata": {},
   "outputs": [
    {
     "data": {
      "text/plain": [
       "{'name': 'Poppy Hobbs',\n",
       " 'oxygen_level': 99,\n",
       " 'hydration_level': 94,\n",
       " 'radiation_dose': 72,\n",
       " 'status': 'stable'}"
      ]
     },
     "execution_count": 11,
     "metadata": {},
     "output_type": "execute_result"
    }
   ],
   "source": [
    "crew_member.update({\"status\": \"stable\"})\n",
    "crew_member"
   ]
  },
  {
   "cell_type": "code",
   "execution_count": 12,
   "id": "109e54ca-99fd-4d70-81e4-c1abd5949176",
   "metadata": {},
   "outputs": [
    {
     "name": "stdout",
     "output_type": "stream",
     "text": [
      "name: Poppy Hobbs\n",
      "oxygen_level: 99\n",
      "hydration_level: 94\n",
      "radiation_dose: 72\n",
      "status: stable\n"
     ]
    }
   ],
   "source": [
    "for key, value in crew_member.items():\n",
    "    print(f\"{key}: {value}\")"
   ]
  },
  {
   "cell_type": "markdown",
   "id": "49e51dd0-975e-4254-8a5a-f0d6fed3bc58",
   "metadata": {},
   "source": [
    "### 4. Control Flow (if/else, loops)\n",
    "**Goal:** Conditional logic and iteration\n",
    "\n",
    "- Write an if statement to print \"Alert\" if oxygen level is below 85%.\n",
    "- Loop through a list of 5 crew radiation doses and print a warning for doses above 50 mSv.\n",
    "- Calculate the average dose per crew member"
   ]
  },
  {
   "cell_type": "code",
   "execution_count": 13,
   "id": "bd3cc870-de6e-43ff-9f41-eb876dd4f908",
   "metadata": {},
   "outputs": [],
   "source": [
    "crew_radiation = {\"Alice Carter\": 42, \"Ben O'Hara\": 51, \"Celeste Yang\": 65, \"Daniel Rivera\": 33, \"Elena Marques\":88}"
   ]
  },
  {
   "cell_type": "code",
   "execution_count": 14,
   "id": "209283c8-3410-4547-9477-fd0e9189cffa",
   "metadata": {},
   "outputs": [
    {
     "data": {
      "text/plain": [
       "{'Alice Carter': 42,\n",
       " \"Ben O'Hara\": 51,\n",
       " 'Celeste Yang': 65,\n",
       " 'Daniel Rivera': 33,\n",
       " 'Elena Marques': 88}"
      ]
     },
     "execution_count": 14,
     "metadata": {},
     "output_type": "execute_result"
    }
   ],
   "source": [
    "crew_radiation"
   ]
  },
  {
   "cell_type": "code",
   "execution_count": 15,
   "id": "cb4389af-2573-4e8d-8fc9-8b358590d61b",
   "metadata": {},
   "outputs": [
    {
     "name": "stdout",
     "output_type": "stream",
     "text": [
      "ALERT! Crew member Ben O'Hara: radiation level 51 mSv\n",
      "ALERT! Crew member Celeste Yang: radiation level 65 mSv\n",
      "ALERT! Crew member Elena Marques: radiation level 88 mSv\n"
     ]
    }
   ],
   "source": [
    "for key, value in crew_radiation.items():\n",
    "    if value > 50:\n",
    "        print(f\"ALERT! Crew member {key}: radiation level {value} mSv\")"
   ]
  },
  {
   "cell_type": "code",
   "execution_count": 16,
   "id": "8c893699-834f-4b71-aa57-284f6187c931",
   "metadata": {},
   "outputs": [
    {
     "name": "stdout",
     "output_type": "stream",
     "text": [
      "\n",
      "Average crew radiation dose: 55.80 mSv\n"
     ]
    }
   ],
   "source": [
    "avg_dose = sum(crew_radiation.values())/len(crew_radiation)\n",
    "\n",
    "print(f\"\\nAverage crew radiation dose: {avg_dose:.2f} mSv\")"
   ]
  },
  {
   "cell_type": "markdown",
   "id": "07e374e5-3836-4433-b116-78325d0fba54",
   "metadata": {},
   "source": [
    "### 5. Functions\n",
    "**Goal:** Encapsulate logic and reuse\n",
    "\n",
    "- Write a function bmi(weight_kg, height_m) that returns BMI.\n",
    "- Write a function check_co2_level(ppm) that returns \"safe\" if CO₂ < 1000 ppm, else \"danger\".\n"
   ]
  },
  {
   "cell_type": "code",
   "execution_count": 17,
   "id": "bedbc181-d166-4f3a-b047-06560c8e5f8b",
   "metadata": {},
   "outputs": [
    {
     "name": "stdin",
     "output_type": "stream",
     "text": [
      "Enter weight (kg): 57\n",
      "Enter height (m): 1.58\n"
     ]
    },
    {
     "name": "stdout",
     "output_type": "stream",
     "text": [
      "BMI = 22.83\n"
     ]
    }
   ],
   "source": [
    "def bmi():\n",
    "    weight = float(input(\"Enter weight (kg):\"))\n",
    "    height = float(input(\"Enter height (m):\"))\n",
    "    bmi_value = weight/height**2\n",
    "    return bmi_value\n",
    "\n",
    "check_bmi = bmi()\n",
    "print(f\"BMI = {check_bmi:.2f}\")"
   ]
  },
  {
   "cell_type": "code",
   "execution_count": 18,
   "id": "37651fbf-b97d-45a9-861e-39dd3e983377",
   "metadata": {},
   "outputs": [
    {
     "name": "stdin",
     "output_type": "stream",
     "text": [
      "Enter CO2 level (ppm): 697\n"
     ]
    },
    {
     "name": "stdout",
     "output_type": "stream",
     "text": [
      "CO2 level: SAFE\n"
     ]
    }
   ],
   "source": [
    "def check_co2():\n",
    "    co2 = float(input(\"Enter CO2 level (ppm):\"))\n",
    "    if co2 < 1000:\n",
    "        return \"SAFE\"\n",
    "    else:\n",
    "        return \"DANGER\"\n",
    "\n",
    "status = check_co2()\n",
    "print(f\"CO2 level: {status}\")"
   ]
  },
  {
   "cell_type": "markdown",
   "id": "ad364ba3-6f62-4577-be4e-d450f099350c",
   "metadata": {},
   "source": [
    "#### Note: Best practices:\n",
    "\n",
    "**Use print() when:**\n",
    "- done with the value and just want to show it\n",
    "- debugging or giving user feedback\n",
    "\n",
    "**Use return when:**\n",
    "- need to save, reuse, or test the result\n",
    "- function is part of a bigger system (like a simulation or model)\n",
    "- writing modular, reusable, or testable code"
   ]
  },
  {
   "cell_type": "markdown",
   "id": "2a9fca7a-a27b-4a02-bd04-e83bc54a0d92",
   "metadata": {},
   "source": [
    "### 6. File Reading (Text or CSV)\n",
    "**Goal:** Read data from file\n",
    "\n",
    "- Simulate opening a CSV file of sleep hours per day.\n",
    "- Read it line by line and print each line.\n",
    "- Count how many days the astronaut slept less than 6 hours.\n",
    "\n"
   ]
  },
  {
   "cell_type": "markdown",
   "id": "abe12be7-c741-425d-ab03-aeed62e6ebe7",
   "metadata": {},
   "source": [
    "using .txt file"
   ]
  },
  {
   "cell_type": "code",
   "execution_count": 19,
   "id": "a463cc9b-47b8-443b-a4ee-df7d53c96238",
   "metadata": {},
   "outputs": [],
   "source": [
    "import pandas as pd"
   ]
  },
  {
   "cell_type": "code",
   "execution_count": 20,
   "id": "ddcca0ca-1f85-42f6-ac96-6fbc56056027",
   "metadata": {},
   "outputs": [
    {
     "data": {
      "text/html": [
       "<div>\n",
       "<style scoped>\n",
       "    .dataframe tbody tr th:only-of-type {\n",
       "        vertical-align: middle;\n",
       "    }\n",
       "\n",
       "    .dataframe tbody tr th {\n",
       "        vertical-align: top;\n",
       "    }\n",
       "\n",
       "    .dataframe thead th {\n",
       "        text-align: right;\n",
       "    }\n",
       "</style>\n",
       "<table border=\"1\" class=\"dataframe\">\n",
       "  <thead>\n",
       "    <tr style=\"text-align: right;\">\n",
       "      <th></th>\n",
       "      <th>date</th>\n",
       "      <th>crew_member</th>\n",
       "      <th>sleep_hours</th>\n",
       "    </tr>\n",
       "  </thead>\n",
       "  <tbody>\n",
       "    <tr>\n",
       "      <th>0</th>\n",
       "      <td>20/3/2025</td>\n",
       "      <td>Alice Carter</td>\n",
       "      <td>6.5</td>\n",
       "    </tr>\n",
       "    <tr>\n",
       "      <th>1</th>\n",
       "      <td>20/3/2025</td>\n",
       "      <td>Ben O'Hara</td>\n",
       "      <td>5.0</td>\n",
       "    </tr>\n",
       "    <tr>\n",
       "      <th>2</th>\n",
       "      <td>20/3/2025</td>\n",
       "      <td>Celeste Yang</td>\n",
       "      <td>7.2</td>\n",
       "    </tr>\n",
       "    <tr>\n",
       "      <th>3</th>\n",
       "      <td>21/3/2025</td>\n",
       "      <td>Alice Carter</td>\n",
       "      <td>5.8</td>\n",
       "    </tr>\n",
       "    <tr>\n",
       "      <th>4</th>\n",
       "      <td>21/3/2025</td>\n",
       "      <td>Ben O'Hara</td>\n",
       "      <td>6.1</td>\n",
       "    </tr>\n",
       "    <tr>\n",
       "      <th>5</th>\n",
       "      <td>21/3/2025</td>\n",
       "      <td>Celeste Yang</td>\n",
       "      <td>5.5</td>\n",
       "    </tr>\n",
       "    <tr>\n",
       "      <th>6</th>\n",
       "      <td>22/3/2025</td>\n",
       "      <td>Alice Carter</td>\n",
       "      <td>7.0</td>\n",
       "    </tr>\n",
       "    <tr>\n",
       "      <th>7</th>\n",
       "      <td>22/3/2025</td>\n",
       "      <td>Ben O'Hara</td>\n",
       "      <td>4.9</td>\n",
       "    </tr>\n",
       "    <tr>\n",
       "      <th>8</th>\n",
       "      <td>22/3/2025</td>\n",
       "      <td>Celeste Yang</td>\n",
       "      <td>6.3</td>\n",
       "    </tr>\n",
       "  </tbody>\n",
       "</table>\n",
       "</div>"
      ],
      "text/plain": [
       "        date   crew_member  sleep_hours\n",
       "0  20/3/2025  Alice Carter          6.5\n",
       "1  20/3/2025    Ben O'Hara          5.0\n",
       "2  20/3/2025  Celeste Yang          7.2\n",
       "3  21/3/2025  Alice Carter          5.8\n",
       "4  21/3/2025    Ben O'Hara          6.1\n",
       "5  21/3/2025  Celeste Yang          5.5\n",
       "6  22/3/2025  Alice Carter          7.0\n",
       "7  22/3/2025    Ben O'Hara          4.9\n",
       "8  22/3/2025  Celeste Yang          6.3"
      ]
     },
     "execution_count": 20,
     "metadata": {},
     "output_type": "execute_result"
    }
   ],
   "source": [
    "crew_sleep_log = pd.read_csv(\"./crew_sleep_log.csv\")\n",
    "crew_sleep_log"
   ]
  },
  {
   "cell_type": "code",
   "execution_count": 21,
   "id": "52b1bfd4-6c15-4454-a800-b8cec2458fea",
   "metadata": {},
   "outputs": [
    {
     "data": {
      "text/html": [
       "<div>\n",
       "<style scoped>\n",
       "    .dataframe tbody tr th:only-of-type {\n",
       "        vertical-align: middle;\n",
       "    }\n",
       "\n",
       "    .dataframe tbody tr th {\n",
       "        vertical-align: top;\n",
       "    }\n",
       "\n",
       "    .dataframe thead th {\n",
       "        text-align: right;\n",
       "    }\n",
       "</style>\n",
       "<table border=\"1\" class=\"dataframe\">\n",
       "  <thead>\n",
       "    <tr style=\"text-align: right;\">\n",
       "      <th></th>\n",
       "      <th>date</th>\n",
       "      <th>crew_member</th>\n",
       "      <th>sleep_hours</th>\n",
       "    </tr>\n",
       "  </thead>\n",
       "  <tbody>\n",
       "    <tr>\n",
       "      <th>1</th>\n",
       "      <td>20/3/2025</td>\n",
       "      <td>Ben O'Hara</td>\n",
       "      <td>5.0</td>\n",
       "    </tr>\n",
       "    <tr>\n",
       "      <th>3</th>\n",
       "      <td>21/3/2025</td>\n",
       "      <td>Alice Carter</td>\n",
       "      <td>5.8</td>\n",
       "    </tr>\n",
       "    <tr>\n",
       "      <th>5</th>\n",
       "      <td>21/3/2025</td>\n",
       "      <td>Celeste Yang</td>\n",
       "      <td>5.5</td>\n",
       "    </tr>\n",
       "    <tr>\n",
       "      <th>7</th>\n",
       "      <td>22/3/2025</td>\n",
       "      <td>Ben O'Hara</td>\n",
       "      <td>4.9</td>\n",
       "    </tr>\n",
       "  </tbody>\n",
       "</table>\n",
       "</div>"
      ],
      "text/plain": [
       "        date   crew_member  sleep_hours\n",
       "1  20/3/2025    Ben O'Hara          5.0\n",
       "3  21/3/2025  Alice Carter          5.8\n",
       "5  21/3/2025  Celeste Yang          5.5\n",
       "7  22/3/2025    Ben O'Hara          4.9"
      ]
     },
     "execution_count": 21,
     "metadata": {},
     "output_type": "execute_result"
    }
   ],
   "source": [
    "# filter data by sleep entries < 6 hours\n",
    "filtered = crew_sleep_log[(crew_sleep_log[\"sleep_hours\"] < 6)]\n",
    "filtered"
   ]
  },
  {
   "cell_type": "code",
   "execution_count": 22,
   "id": "ec4203e3-5e3c-4931-9417-08fe145fe78c",
   "metadata": {},
   "outputs": [
    {
     "name": "stdout",
     "output_type": "stream",
     "text": [
      "Number of sleep entries < 6 hours per crew member:\n",
      "Ben O'Hara : 2\n",
      "Alice Carter : 1\n",
      "Celeste Yang : 1\n"
     ]
    }
   ],
   "source": [
    "# create a dictionary to hold count of low sleep entries per crew member\n",
    "count = {}\n",
    "\n",
    "for crew in filtered[\"crew_member\"]:\n",
    "    if crew not in count:\n",
    "        count[crew] = 1\n",
    "    else:\n",
    "        count[crew] +=1\n",
    "        \n",
    "print(f\"Number of sleep entries < 6 hours per crew member:\")\n",
    "for name, freq in count.items():\n",
    "    print(f\"{name} : {freq}\")"
   ]
  },
  {
   "cell_type": "markdown",
   "id": "539db44a-a9c6-4263-8889-ae495eea2b1f",
   "metadata": {},
   "source": [
    "### Optional Bonus: List Comprehensions\n",
    "**Goal:** Cleaner looping\n",
    "\n",
    "- Given a list of body temperatures (°C), create a new list of values in °F.\n",
    "- Create a list of names from a crew list that start with \"J\"."
   ]
  },
  {
   "cell_type": "code",
   "execution_count": 23,
   "id": "988b2828-957b-4069-b591-c4a7f215b394",
   "metadata": {},
   "outputs": [
    {
     "data": {
      "text/plain": [
       "[97.88, 83.48, 66.56, 43.16, 70.7, 89.6]"
      ]
     },
     "execution_count": 23,
     "metadata": {},
     "output_type": "execute_result"
    }
   ],
   "source": [
    "temp_celcius = [36.6, 28.6, 19.2, 6.2, 21.5, 32]\n",
    "\n",
    "temp_fahr = [round(temp * 9/5 + 32,2) for temp in temp_celcius]\n",
    "\n",
    "temp_fahr"
   ]
  },
  {
   "cell_type": "code",
   "execution_count": 24,
   "id": "1ee63fc7-0870-4359-9137-a8407dd310a4",
   "metadata": {},
   "outputs": [],
   "source": [
    "crew_members = [\n",
    "    \"James Carter\", \"Olivia Wang\", \"Jason Lee\", \"Maya Patel\", \"Jordan Kim\",\n",
    "    \"Liam Scott\", \"Sophia Blake\", \"Jasmine Flores\", \"Ethan Zhao\", \"Isabella Torres\",\n",
    "    \"Jacob Grant\", \"Emily Tan\", \"Jackie Liu\", \"Noah Becker\", \"Julia Nguyen\",\n",
    "    \"Emma Brown\", \"Jonas Müller\", \"Chloe Adams\", \"Jayden Smith\", \"Amelia Fox\",\n",
    "    \"Logan Reyes\", \"Jessica Park\", \"Sebastian Chu\", \"Jared Lin\", \"Natalie Brooks\",\n",
    "    \"Josephine Hart\", \"Benjamin Wu\", \"Jennifer Ma\", \"John Davis\", \"Charlotte Moon\"\n",
    "]"
   ]
  },
  {
   "cell_type": "code",
   "execution_count": 25,
   "id": "0585fe7d-5746-42bb-ad76-47d92c5e1e47",
   "metadata": {},
   "outputs": [
    {
     "data": {
      "text/plain": [
       "['James Carter',\n",
       " 'Jason Lee',\n",
       " 'Jordan Kim',\n",
       " 'Jasmine Flores',\n",
       " 'Jacob Grant',\n",
       " 'Jackie Liu',\n",
       " 'Julia Nguyen',\n",
       " 'Jonas Müller',\n",
       " 'Jayden Smith',\n",
       " 'Jessica Park',\n",
       " 'Jared Lin',\n",
       " 'Josephine Hart',\n",
       " 'Jennifer Ma',\n",
       " 'John Davis']"
      ]
     },
     "execution_count": 25,
     "metadata": {},
     "output_type": "execute_result"
    }
   ],
   "source": [
    "j_crew = []\n",
    "\n",
    "for x in crew_members:\n",
    "    if x.startswith('J'):\n",
    "        j_crew.append(x)\n",
    "j_crew"
   ]
  },
  {
   "cell_type": "code",
   "execution_count": 28,
   "id": "92fff0e0-b956-4ae1-8207-549e7c3dbdd5",
   "metadata": {},
   "outputs": [
    {
     "data": {
      "text/plain": [
       "['James Carter',\n",
       " 'Jason Lee',\n",
       " 'Jordan Kim',\n",
       " 'Jasmine Flores',\n",
       " 'Jacob Grant',\n",
       " 'Jackie Liu',\n",
       " 'Julia Nguyen',\n",
       " 'Jonas Müller',\n",
       " 'Jayden Smith',\n",
       " 'Jessica Park',\n",
       " 'Jared Lin',\n",
       " 'Josephine Hart',\n",
       " 'Jennifer Ma',\n",
       " 'John Davis']"
      ]
     },
     "execution_count": 28,
     "metadata": {},
     "output_type": "execute_result"
    }
   ],
   "source": [
    "# even cleaner:\n",
    "j_crew_2 = [x for x in crew_members if x.startswith('J')]\n",
    "j_crew_2"
   ]
  },
  {
   "cell_type": "markdown",
   "id": "e534d201-2cc1-4a24-b5a4-d5846e0697c2",
   "metadata": {},
   "source": [
    "--THE END--"
   ]
  }
 ],
 "metadata": {
  "kernelspec": {
   "display_name": "Python 3 (ipykernel)",
   "language": "python",
   "name": "python3"
  },
  "language_info": {
   "codemirror_mode": {
    "name": "ipython",
    "version": 3
   },
   "file_extension": ".py",
   "mimetype": "text/x-python",
   "name": "python",
   "nbconvert_exporter": "python",
   "pygments_lexer": "ipython3",
   "version": "3.10.12"
  }
 },
 "nbformat": 4,
 "nbformat_minor": 5
}
